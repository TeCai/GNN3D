{
 "cells": [
  {
   "cell_type": "code",
   "execution_count": 1,
   "metadata": {
    "collapsed": true
   },
   "outputs": [],
   "source": [
    "import torch.distributions"
   ]
  },
  {
   "cell_type": "code",
   "execution_count": 3,
   "metadata": {
    "collapsed": false
   },
   "outputs": [
    {
     "data": {
      "text/plain": [
       "torch.Size([100, 3])"
      ]
     },
     "execution_count": 3,
     "metadata": {},
     "output_type": "execute_result"
    }
   ],
   "source": [
    "d = torch.distributions.one_hot_categorical.OneHotCategorical(probs=torch.tensor([.3,.3,.4]))\n",
    "d.sample(sample_shape=(100,)).shape"
   ]
  },
  {
   "cell_type": "code",
   "execution_count": 2,
   "metadata": {},
   "outputs": [
    {
     "data": {
      "text/plain": [
       "'2.0.1'"
      ]
     },
     "execution_count": 2,
     "metadata": {},
     "output_type": "execute_result"
    }
   ],
   "source": [
    "import torch\n",
    "torch.__version__"
   ]
  },
  {
   "cell_type": "code",
   "execution_count": 2,
   "metadata": {
    "ExecuteTime": {
     "end_time": "2024-02-05T13:59:51.909450Z",
     "start_time": "2024-02-05T13:59:47.724467300Z"
    },
    "collapsed": false
   },
   "outputs": [],
   "source": [
    "import torch\n",
    "from diffusers import DiffusionPipeline, UNet2DConditionModel\n",
    "from mvdiffusion.models.unet_mv2d_condition import UNetMV2DConditionModel"
   ]
  },
  {
   "cell_type": "code",
   "execution_count": 4,
   "metadata": {
    "ExecuteTime": {
     "end_time": "2024-01-25T15:21:50.916532100Z",
     "start_time": "2024-01-25T15:21:49.614835900Z"
    },
    "collapsed": false
   },
   "outputs": [
    {
     "name": "stderr",
     "output_type": "stream",
     "text": [
      "Couldn't connect to the Hub: (MaxRetryError(\"HTTPSConnectionPool(host='huggingface.co', port=443): Max retries exceeded with url: /api/models/flamehaze1115/wonder3d-v1.0 (Caused by NewConnectionError('<urllib3.connection.HTTPSConnection object at 0x7fc5e8257dc0>: Failed to establish a new connection: [Errno 101] Network is unreachable'))\"), '(Request ID: b182ac7e-1f96-44a2-8f64-1cf6aad7a07a)').\n",
      "Will try to load from local cache.\n"
     ]
    },
    {
     "ename": "OSError",
     "evalue": "Cannot load model flamehaze1115/wonder3d-v1.0: model is not cached locally and an error occured while trying to fetch metadata from the Hub. Please check out the root cause in the stacktrace above.",
     "output_type": "error",
     "traceback": [
      "\u001b[0;31m---------------------------------------------------------------------------\u001b[0m",
      "\u001b[0;31mOSError\u001b[0m                                   Traceback (most recent call last)",
      "File \u001b[0;32m~/anaconda3/envs/GNN3D/lib/python3.9/site-packages/urllib3/connection.py:203\u001b[0m, in \u001b[0;36mHTTPConnection._new_conn\u001b[0;34m(self)\u001b[0m\n\u001b[1;32m    202\u001b[0m \u001b[38;5;28;01mtry\u001b[39;00m:\n\u001b[0;32m--> 203\u001b[0m     sock \u001b[38;5;241m=\u001b[39m \u001b[43mconnection\u001b[49m\u001b[38;5;241;43m.\u001b[39;49m\u001b[43mcreate_connection\u001b[49m\u001b[43m(\u001b[49m\n\u001b[1;32m    204\u001b[0m \u001b[43m        \u001b[49m\u001b[43m(\u001b[49m\u001b[38;5;28;43mself\u001b[39;49m\u001b[38;5;241;43m.\u001b[39;49m\u001b[43m_dns_host\u001b[49m\u001b[43m,\u001b[49m\u001b[43m \u001b[49m\u001b[38;5;28;43mself\u001b[39;49m\u001b[38;5;241;43m.\u001b[39;49m\u001b[43mport\u001b[49m\u001b[43m)\u001b[49m\u001b[43m,\u001b[49m\n\u001b[1;32m    205\u001b[0m \u001b[43m        \u001b[49m\u001b[38;5;28;43mself\u001b[39;49m\u001b[38;5;241;43m.\u001b[39;49m\u001b[43mtimeout\u001b[49m\u001b[43m,\u001b[49m\n\u001b[1;32m    206\u001b[0m \u001b[43m        \u001b[49m\u001b[43msource_address\u001b[49m\u001b[38;5;241;43m=\u001b[39;49m\u001b[38;5;28;43mself\u001b[39;49m\u001b[38;5;241;43m.\u001b[39;49m\u001b[43msource_address\u001b[49m\u001b[43m,\u001b[49m\n\u001b[1;32m    207\u001b[0m \u001b[43m        \u001b[49m\u001b[43msocket_options\u001b[49m\u001b[38;5;241;43m=\u001b[39;49m\u001b[38;5;28;43mself\u001b[39;49m\u001b[38;5;241;43m.\u001b[39;49m\u001b[43msocket_options\u001b[49m\u001b[43m,\u001b[49m\n\u001b[1;32m    208\u001b[0m \u001b[43m    \u001b[49m\u001b[43m)\u001b[49m\n\u001b[1;32m    209\u001b[0m \u001b[38;5;28;01mexcept\u001b[39;00m socket\u001b[38;5;241m.\u001b[39mgaierror \u001b[38;5;28;01mas\u001b[39;00m e:\n",
      "File \u001b[0;32m~/anaconda3/envs/GNN3D/lib/python3.9/site-packages/urllib3/util/connection.py:85\u001b[0m, in \u001b[0;36mcreate_connection\u001b[0;34m(address, timeout, source_address, socket_options)\u001b[0m\n\u001b[1;32m     84\u001b[0m \u001b[38;5;28;01mtry\u001b[39;00m:\n\u001b[0;32m---> 85\u001b[0m     \u001b[38;5;28;01mraise\u001b[39;00m err\n\u001b[1;32m     86\u001b[0m \u001b[38;5;28;01mfinally\u001b[39;00m:\n\u001b[1;32m     87\u001b[0m     \u001b[38;5;66;03m# Break explicitly a reference cycle\u001b[39;00m\n",
      "File \u001b[0;32m~/anaconda3/envs/GNN3D/lib/python3.9/site-packages/urllib3/util/connection.py:73\u001b[0m, in \u001b[0;36mcreate_connection\u001b[0;34m(address, timeout, source_address, socket_options)\u001b[0m\n\u001b[1;32m     72\u001b[0m     sock\u001b[38;5;241m.\u001b[39mbind(source_address)\n\u001b[0;32m---> 73\u001b[0m \u001b[43msock\u001b[49m\u001b[38;5;241;43m.\u001b[39;49m\u001b[43mconnect\u001b[49m\u001b[43m(\u001b[49m\u001b[43msa\u001b[49m\u001b[43m)\u001b[49m\n\u001b[1;32m     74\u001b[0m \u001b[38;5;66;03m# Break explicitly a reference cycle\u001b[39;00m\n",
      "\u001b[0;31mOSError\u001b[0m: [Errno 101] Network is unreachable",
      "\nThe above exception was the direct cause of the following exception:\n",
      "\u001b[0;31mNewConnectionError\u001b[0m                        Traceback (most recent call last)",
      "File \u001b[0;32m~/anaconda3/envs/GNN3D/lib/python3.9/site-packages/urllib3/connectionpool.py:790\u001b[0m, in \u001b[0;36mHTTPConnectionPool.urlopen\u001b[0;34m(self, method, url, body, headers, retries, redirect, assert_same_host, timeout, pool_timeout, release_conn, chunked, body_pos, preload_content, decode_content, **response_kw)\u001b[0m\n\u001b[1;32m    789\u001b[0m \u001b[38;5;66;03m# Make the request on the HTTPConnection object\u001b[39;00m\n\u001b[0;32m--> 790\u001b[0m response \u001b[38;5;241m=\u001b[39m \u001b[38;5;28;43mself\u001b[39;49m\u001b[38;5;241;43m.\u001b[39;49m\u001b[43m_make_request\u001b[49m\u001b[43m(\u001b[49m\n\u001b[1;32m    791\u001b[0m \u001b[43m    \u001b[49m\u001b[43mconn\u001b[49m\u001b[43m,\u001b[49m\n\u001b[1;32m    792\u001b[0m \u001b[43m    \u001b[49m\u001b[43mmethod\u001b[49m\u001b[43m,\u001b[49m\n\u001b[1;32m    793\u001b[0m \u001b[43m    \u001b[49m\u001b[43murl\u001b[49m\u001b[43m,\u001b[49m\n\u001b[1;32m    794\u001b[0m \u001b[43m    \u001b[49m\u001b[43mtimeout\u001b[49m\u001b[38;5;241;43m=\u001b[39;49m\u001b[43mtimeout_obj\u001b[49m\u001b[43m,\u001b[49m\n\u001b[1;32m    795\u001b[0m \u001b[43m    \u001b[49m\u001b[43mbody\u001b[49m\u001b[38;5;241;43m=\u001b[39;49m\u001b[43mbody\u001b[49m\u001b[43m,\u001b[49m\n\u001b[1;32m    796\u001b[0m \u001b[43m    \u001b[49m\u001b[43mheaders\u001b[49m\u001b[38;5;241;43m=\u001b[39;49m\u001b[43mheaders\u001b[49m\u001b[43m,\u001b[49m\n\u001b[1;32m    797\u001b[0m \u001b[43m    \u001b[49m\u001b[43mchunked\u001b[49m\u001b[38;5;241;43m=\u001b[39;49m\u001b[43mchunked\u001b[49m\u001b[43m,\u001b[49m\n\u001b[1;32m    798\u001b[0m \u001b[43m    \u001b[49m\u001b[43mretries\u001b[49m\u001b[38;5;241;43m=\u001b[39;49m\u001b[43mretries\u001b[49m\u001b[43m,\u001b[49m\n\u001b[1;32m    799\u001b[0m \u001b[43m    \u001b[49m\u001b[43mresponse_conn\u001b[49m\u001b[38;5;241;43m=\u001b[39;49m\u001b[43mresponse_conn\u001b[49m\u001b[43m,\u001b[49m\n\u001b[1;32m    800\u001b[0m \u001b[43m    \u001b[49m\u001b[43mpreload_content\u001b[49m\u001b[38;5;241;43m=\u001b[39;49m\u001b[43mpreload_content\u001b[49m\u001b[43m,\u001b[49m\n\u001b[1;32m    801\u001b[0m \u001b[43m    \u001b[49m\u001b[43mdecode_content\u001b[49m\u001b[38;5;241;43m=\u001b[39;49m\u001b[43mdecode_content\u001b[49m\u001b[43m,\u001b[49m\n\u001b[1;32m    802\u001b[0m \u001b[43m    \u001b[49m\u001b[38;5;241;43m*\u001b[39;49m\u001b[38;5;241;43m*\u001b[39;49m\u001b[43mresponse_kw\u001b[49m\u001b[43m,\u001b[49m\n\u001b[1;32m    803\u001b[0m \u001b[43m\u001b[49m\u001b[43m)\u001b[49m\n\u001b[1;32m    805\u001b[0m \u001b[38;5;66;03m# Everything went great!\u001b[39;00m\n",
      "File \u001b[0;32m~/anaconda3/envs/GNN3D/lib/python3.9/site-packages/urllib3/connectionpool.py:491\u001b[0m, in \u001b[0;36mHTTPConnectionPool._make_request\u001b[0;34m(self, conn, method, url, body, headers, retries, timeout, chunked, response_conn, preload_content, decode_content, enforce_content_length)\u001b[0m\n\u001b[1;32m    490\u001b[0m         new_e \u001b[38;5;241m=\u001b[39m _wrap_proxy_error(new_e, conn\u001b[38;5;241m.\u001b[39mproxy\u001b[38;5;241m.\u001b[39mscheme)\n\u001b[0;32m--> 491\u001b[0m     \u001b[38;5;28;01mraise\u001b[39;00m new_e\n\u001b[1;32m    493\u001b[0m \u001b[38;5;66;03m# conn.request() calls http.client.*.request, not the method in\u001b[39;00m\n\u001b[1;32m    494\u001b[0m \u001b[38;5;66;03m# urllib3.request. It also calls makefile (recv) on the socket.\u001b[39;00m\n",
      "File \u001b[0;32m~/anaconda3/envs/GNN3D/lib/python3.9/site-packages/urllib3/connectionpool.py:467\u001b[0m, in \u001b[0;36mHTTPConnectionPool._make_request\u001b[0;34m(self, conn, method, url, body, headers, retries, timeout, chunked, response_conn, preload_content, decode_content, enforce_content_length)\u001b[0m\n\u001b[1;32m    466\u001b[0m \u001b[38;5;28;01mtry\u001b[39;00m:\n\u001b[0;32m--> 467\u001b[0m     \u001b[38;5;28;43mself\u001b[39;49m\u001b[38;5;241;43m.\u001b[39;49m\u001b[43m_validate_conn\u001b[49m\u001b[43m(\u001b[49m\u001b[43mconn\u001b[49m\u001b[43m)\u001b[49m\n\u001b[1;32m    468\u001b[0m \u001b[38;5;28;01mexcept\u001b[39;00m (SocketTimeout, BaseSSLError) \u001b[38;5;28;01mas\u001b[39;00m e:\n",
      "File \u001b[0;32m~/anaconda3/envs/GNN3D/lib/python3.9/site-packages/urllib3/connectionpool.py:1096\u001b[0m, in \u001b[0;36mHTTPSConnectionPool._validate_conn\u001b[0;34m(self, conn)\u001b[0m\n\u001b[1;32m   1095\u001b[0m \u001b[38;5;28;01mif\u001b[39;00m conn\u001b[38;5;241m.\u001b[39mis_closed:\n\u001b[0;32m-> 1096\u001b[0m     \u001b[43mconn\u001b[49m\u001b[38;5;241;43m.\u001b[39;49m\u001b[43mconnect\u001b[49m\u001b[43m(\u001b[49m\u001b[43m)\u001b[49m\n\u001b[1;32m   1098\u001b[0m \u001b[38;5;28;01mif\u001b[39;00m \u001b[38;5;129;01mnot\u001b[39;00m conn\u001b[38;5;241m.\u001b[39mis_verified:\n",
      "File \u001b[0;32m~/anaconda3/envs/GNN3D/lib/python3.9/site-packages/urllib3/connection.py:611\u001b[0m, in \u001b[0;36mHTTPSConnection.connect\u001b[0;34m(self)\u001b[0m\n\u001b[1;32m    610\u001b[0m sock: socket\u001b[38;5;241m.\u001b[39msocket \u001b[38;5;241m|\u001b[39m ssl\u001b[38;5;241m.\u001b[39mSSLSocket\n\u001b[0;32m--> 611\u001b[0m \u001b[38;5;28mself\u001b[39m\u001b[38;5;241m.\u001b[39msock \u001b[38;5;241m=\u001b[39m sock \u001b[38;5;241m=\u001b[39m \u001b[38;5;28;43mself\u001b[39;49m\u001b[38;5;241;43m.\u001b[39;49m\u001b[43m_new_conn\u001b[49m\u001b[43m(\u001b[49m\u001b[43m)\u001b[49m\n\u001b[1;32m    612\u001b[0m server_hostname: \u001b[38;5;28mstr\u001b[39m \u001b[38;5;241m=\u001b[39m \u001b[38;5;28mself\u001b[39m\u001b[38;5;241m.\u001b[39mhost\n",
      "File \u001b[0;32m~/anaconda3/envs/GNN3D/lib/python3.9/site-packages/urllib3/connection.py:218\u001b[0m, in \u001b[0;36mHTTPConnection._new_conn\u001b[0;34m(self)\u001b[0m\n\u001b[1;32m    217\u001b[0m \u001b[38;5;28;01mexcept\u001b[39;00m \u001b[38;5;167;01mOSError\u001b[39;00m \u001b[38;5;28;01mas\u001b[39;00m e:\n\u001b[0;32m--> 218\u001b[0m     \u001b[38;5;28;01mraise\u001b[39;00m NewConnectionError(\n\u001b[1;32m    219\u001b[0m         \u001b[38;5;28mself\u001b[39m, \u001b[38;5;124mf\u001b[39m\u001b[38;5;124m\"\u001b[39m\u001b[38;5;124mFailed to establish a new connection: \u001b[39m\u001b[38;5;132;01m{\u001b[39;00me\u001b[38;5;132;01m}\u001b[39;00m\u001b[38;5;124m\"\u001b[39m\n\u001b[1;32m    220\u001b[0m     ) \u001b[38;5;28;01mfrom\u001b[39;00m \u001b[38;5;21;01me\u001b[39;00m\n\u001b[1;32m    222\u001b[0m \u001b[38;5;66;03m# Audit hooks are only available in Python 3.8+\u001b[39;00m\n",
      "\u001b[0;31mNewConnectionError\u001b[0m: <urllib3.connection.HTTPSConnection object at 0x7fc5e8257dc0>: Failed to establish a new connection: [Errno 101] Network is unreachable",
      "\nThe above exception was the direct cause of the following exception:\n",
      "\u001b[0;31mMaxRetryError\u001b[0m                             Traceback (most recent call last)",
      "File \u001b[0;32m~/anaconda3/envs/GNN3D/lib/python3.9/site-packages/requests/adapters.py:486\u001b[0m, in \u001b[0;36mHTTPAdapter.send\u001b[0;34m(self, request, stream, timeout, verify, cert, proxies)\u001b[0m\n\u001b[1;32m    485\u001b[0m \u001b[38;5;28;01mtry\u001b[39;00m:\n\u001b[0;32m--> 486\u001b[0m     resp \u001b[38;5;241m=\u001b[39m \u001b[43mconn\u001b[49m\u001b[38;5;241;43m.\u001b[39;49m\u001b[43murlopen\u001b[49m\u001b[43m(\u001b[49m\n\u001b[1;32m    487\u001b[0m \u001b[43m        \u001b[49m\u001b[43mmethod\u001b[49m\u001b[38;5;241;43m=\u001b[39;49m\u001b[43mrequest\u001b[49m\u001b[38;5;241;43m.\u001b[39;49m\u001b[43mmethod\u001b[49m\u001b[43m,\u001b[49m\n\u001b[1;32m    488\u001b[0m \u001b[43m        \u001b[49m\u001b[43murl\u001b[49m\u001b[38;5;241;43m=\u001b[39;49m\u001b[43murl\u001b[49m\u001b[43m,\u001b[49m\n\u001b[1;32m    489\u001b[0m \u001b[43m        \u001b[49m\u001b[43mbody\u001b[49m\u001b[38;5;241;43m=\u001b[39;49m\u001b[43mrequest\u001b[49m\u001b[38;5;241;43m.\u001b[39;49m\u001b[43mbody\u001b[49m\u001b[43m,\u001b[49m\n\u001b[1;32m    490\u001b[0m \u001b[43m        \u001b[49m\u001b[43mheaders\u001b[49m\u001b[38;5;241;43m=\u001b[39;49m\u001b[43mrequest\u001b[49m\u001b[38;5;241;43m.\u001b[39;49m\u001b[43mheaders\u001b[49m\u001b[43m,\u001b[49m\n\u001b[1;32m    491\u001b[0m \u001b[43m        \u001b[49m\u001b[43mredirect\u001b[49m\u001b[38;5;241;43m=\u001b[39;49m\u001b[38;5;28;43;01mFalse\u001b[39;49;00m\u001b[43m,\u001b[49m\n\u001b[1;32m    492\u001b[0m \u001b[43m        \u001b[49m\u001b[43massert_same_host\u001b[49m\u001b[38;5;241;43m=\u001b[39;49m\u001b[38;5;28;43;01mFalse\u001b[39;49;00m\u001b[43m,\u001b[49m\n\u001b[1;32m    493\u001b[0m \u001b[43m        \u001b[49m\u001b[43mpreload_content\u001b[49m\u001b[38;5;241;43m=\u001b[39;49m\u001b[38;5;28;43;01mFalse\u001b[39;49;00m\u001b[43m,\u001b[49m\n\u001b[1;32m    494\u001b[0m \u001b[43m        \u001b[49m\u001b[43mdecode_content\u001b[49m\u001b[38;5;241;43m=\u001b[39;49m\u001b[38;5;28;43;01mFalse\u001b[39;49;00m\u001b[43m,\u001b[49m\n\u001b[1;32m    495\u001b[0m \u001b[43m        \u001b[49m\u001b[43mretries\u001b[49m\u001b[38;5;241;43m=\u001b[39;49m\u001b[38;5;28;43mself\u001b[39;49m\u001b[38;5;241;43m.\u001b[39;49m\u001b[43mmax_retries\u001b[49m\u001b[43m,\u001b[49m\n\u001b[1;32m    496\u001b[0m \u001b[43m        \u001b[49m\u001b[43mtimeout\u001b[49m\u001b[38;5;241;43m=\u001b[39;49m\u001b[43mtimeout\u001b[49m\u001b[43m,\u001b[49m\n\u001b[1;32m    497\u001b[0m \u001b[43m        \u001b[49m\u001b[43mchunked\u001b[49m\u001b[38;5;241;43m=\u001b[39;49m\u001b[43mchunked\u001b[49m\u001b[43m,\u001b[49m\n\u001b[1;32m    498\u001b[0m \u001b[43m    \u001b[49m\u001b[43m)\u001b[49m\n\u001b[1;32m    500\u001b[0m \u001b[38;5;28;01mexcept\u001b[39;00m (ProtocolError, \u001b[38;5;167;01mOSError\u001b[39;00m) \u001b[38;5;28;01mas\u001b[39;00m err:\n",
      "File \u001b[0;32m~/anaconda3/envs/GNN3D/lib/python3.9/site-packages/urllib3/connectionpool.py:844\u001b[0m, in \u001b[0;36mHTTPConnectionPool.urlopen\u001b[0;34m(self, method, url, body, headers, retries, redirect, assert_same_host, timeout, pool_timeout, release_conn, chunked, body_pos, preload_content, decode_content, **response_kw)\u001b[0m\n\u001b[1;32m    842\u001b[0m     new_e \u001b[38;5;241m=\u001b[39m ProtocolError(\u001b[38;5;124m\"\u001b[39m\u001b[38;5;124mConnection aborted.\u001b[39m\u001b[38;5;124m\"\u001b[39m, new_e)\n\u001b[0;32m--> 844\u001b[0m retries \u001b[38;5;241m=\u001b[39m \u001b[43mretries\u001b[49m\u001b[38;5;241;43m.\u001b[39;49m\u001b[43mincrement\u001b[49m\u001b[43m(\u001b[49m\n\u001b[1;32m    845\u001b[0m \u001b[43m    \u001b[49m\u001b[43mmethod\u001b[49m\u001b[43m,\u001b[49m\u001b[43m \u001b[49m\u001b[43murl\u001b[49m\u001b[43m,\u001b[49m\u001b[43m \u001b[49m\u001b[43merror\u001b[49m\u001b[38;5;241;43m=\u001b[39;49m\u001b[43mnew_e\u001b[49m\u001b[43m,\u001b[49m\u001b[43m \u001b[49m\u001b[43m_pool\u001b[49m\u001b[38;5;241;43m=\u001b[39;49m\u001b[38;5;28;43mself\u001b[39;49m\u001b[43m,\u001b[49m\u001b[43m \u001b[49m\u001b[43m_stacktrace\u001b[49m\u001b[38;5;241;43m=\u001b[39;49m\u001b[43msys\u001b[49m\u001b[38;5;241;43m.\u001b[39;49m\u001b[43mexc_info\u001b[49m\u001b[43m(\u001b[49m\u001b[43m)\u001b[49m\u001b[43m[\u001b[49m\u001b[38;5;241;43m2\u001b[39;49m\u001b[43m]\u001b[49m\n\u001b[1;32m    846\u001b[0m \u001b[43m\u001b[49m\u001b[43m)\u001b[49m\n\u001b[1;32m    847\u001b[0m retries\u001b[38;5;241m.\u001b[39msleep()\n",
      "File \u001b[0;32m~/anaconda3/envs/GNN3D/lib/python3.9/site-packages/urllib3/util/retry.py:515\u001b[0m, in \u001b[0;36mRetry.increment\u001b[0;34m(self, method, url, response, error, _pool, _stacktrace)\u001b[0m\n\u001b[1;32m    514\u001b[0m     reason \u001b[38;5;241m=\u001b[39m error \u001b[38;5;129;01mor\u001b[39;00m ResponseError(cause)\n\u001b[0;32m--> 515\u001b[0m     \u001b[38;5;28;01mraise\u001b[39;00m MaxRetryError(_pool, url, reason) \u001b[38;5;28;01mfrom\u001b[39;00m \u001b[38;5;21;01mreason\u001b[39;00m  \u001b[38;5;66;03m# type: ignore[arg-type]\u001b[39;00m\n\u001b[1;32m    517\u001b[0m log\u001b[38;5;241m.\u001b[39mdebug(\u001b[38;5;124m\"\u001b[39m\u001b[38;5;124mIncremented Retry for (url=\u001b[39m\u001b[38;5;124m'\u001b[39m\u001b[38;5;132;01m%s\u001b[39;00m\u001b[38;5;124m'\u001b[39m\u001b[38;5;124m): \u001b[39m\u001b[38;5;132;01m%r\u001b[39;00m\u001b[38;5;124m\"\u001b[39m, url, new_retry)\n",
      "\u001b[0;31mMaxRetryError\u001b[0m: HTTPSConnectionPool(host='huggingface.co', port=443): Max retries exceeded with url: /api/models/flamehaze1115/wonder3d-v1.0 (Caused by NewConnectionError('<urllib3.connection.HTTPSConnection object at 0x7fc5e8257dc0>: Failed to establish a new connection: [Errno 101] Network is unreachable'))",
      "\nDuring handling of the above exception, another exception occurred:\n",
      "\u001b[0;31mConnectionError\u001b[0m                           Traceback (most recent call last)",
      "File \u001b[0;32m~/anaconda3/envs/GNN3D/lib/python3.9/site-packages/diffusers/pipelines/pipeline_utils.py:1671\u001b[0m, in \u001b[0;36mDiffusionPipeline.download\u001b[0;34m(cls, pretrained_model_name, **kwargs)\u001b[0m\n\u001b[1;32m   1670\u001b[0m \u001b[38;5;28;01mtry\u001b[39;00m:\n\u001b[0;32m-> 1671\u001b[0m     info \u001b[38;5;241m=\u001b[39m \u001b[43mmodel_info\u001b[49m\u001b[43m(\u001b[49m\u001b[43mpretrained_model_name\u001b[49m\u001b[43m,\u001b[49m\u001b[43m \u001b[49m\u001b[43mtoken\u001b[49m\u001b[38;5;241;43m=\u001b[39;49m\u001b[43mtoken\u001b[49m\u001b[43m,\u001b[49m\u001b[43m \u001b[49m\u001b[43mrevision\u001b[49m\u001b[38;5;241;43m=\u001b[39;49m\u001b[43mrevision\u001b[49m\u001b[43m)\u001b[49m\n\u001b[1;32m   1672\u001b[0m \u001b[38;5;28;01mexcept\u001b[39;00m (HTTPError, OfflineModeIsEnabled, requests\u001b[38;5;241m.\u001b[39mConnectionError) \u001b[38;5;28;01mas\u001b[39;00m e:\n",
      "File \u001b[0;32m~/anaconda3/envs/GNN3D/lib/python3.9/site-packages/huggingface_hub/utils/_validators.py:118\u001b[0m, in \u001b[0;36mvalidate_hf_hub_args.<locals>._inner_fn\u001b[0;34m(*args, **kwargs)\u001b[0m\n\u001b[1;32m    116\u001b[0m     kwargs \u001b[38;5;241m=\u001b[39m smoothly_deprecate_use_auth_token(fn_name\u001b[38;5;241m=\u001b[39mfn\u001b[38;5;241m.\u001b[39m\u001b[38;5;18m__name__\u001b[39m, has_token\u001b[38;5;241m=\u001b[39mhas_token, kwargs\u001b[38;5;241m=\u001b[39mkwargs)\n\u001b[0;32m--> 118\u001b[0m \u001b[38;5;28;01mreturn\u001b[39;00m \u001b[43mfn\u001b[49m\u001b[43m(\u001b[49m\u001b[38;5;241;43m*\u001b[39;49m\u001b[43margs\u001b[49m\u001b[43m,\u001b[49m\u001b[43m \u001b[49m\u001b[38;5;241;43m*\u001b[39;49m\u001b[38;5;241;43m*\u001b[39;49m\u001b[43mkwargs\u001b[49m\u001b[43m)\u001b[49m\n",
      "File \u001b[0;32m~/anaconda3/envs/GNN3D/lib/python3.9/site-packages/huggingface_hub/hf_api.py:2084\u001b[0m, in \u001b[0;36mHfApi.model_info\u001b[0;34m(self, repo_id, revision, timeout, securityStatus, files_metadata, token)\u001b[0m\n\u001b[1;32m   2083\u001b[0m     params[\u001b[38;5;124m\"\u001b[39m\u001b[38;5;124mblobs\u001b[39m\u001b[38;5;124m\"\u001b[39m] \u001b[38;5;241m=\u001b[39m \u001b[38;5;28;01mTrue\u001b[39;00m\n\u001b[0;32m-> 2084\u001b[0m r \u001b[38;5;241m=\u001b[39m \u001b[43mget_session\u001b[49m\u001b[43m(\u001b[49m\u001b[43m)\u001b[49m\u001b[38;5;241;43m.\u001b[39;49m\u001b[43mget\u001b[49m\u001b[43m(\u001b[49m\u001b[43mpath\u001b[49m\u001b[43m,\u001b[49m\u001b[43m \u001b[49m\u001b[43mheaders\u001b[49m\u001b[38;5;241;43m=\u001b[39;49m\u001b[43mheaders\u001b[49m\u001b[43m,\u001b[49m\u001b[43m \u001b[49m\u001b[43mtimeout\u001b[49m\u001b[38;5;241;43m=\u001b[39;49m\u001b[43mtimeout\u001b[49m\u001b[43m,\u001b[49m\u001b[43m \u001b[49m\u001b[43mparams\u001b[49m\u001b[38;5;241;43m=\u001b[39;49m\u001b[43mparams\u001b[49m\u001b[43m)\u001b[49m\n\u001b[1;32m   2085\u001b[0m hf_raise_for_status(r)\n",
      "File \u001b[0;32m~/anaconda3/envs/GNN3D/lib/python3.9/site-packages/requests/sessions.py:602\u001b[0m, in \u001b[0;36mSession.get\u001b[0;34m(self, url, **kwargs)\u001b[0m\n\u001b[1;32m    601\u001b[0m kwargs\u001b[38;5;241m.\u001b[39msetdefault(\u001b[38;5;124m\"\u001b[39m\u001b[38;5;124mallow_redirects\u001b[39m\u001b[38;5;124m\"\u001b[39m, \u001b[38;5;28;01mTrue\u001b[39;00m)\n\u001b[0;32m--> 602\u001b[0m \u001b[38;5;28;01mreturn\u001b[39;00m \u001b[38;5;28;43mself\u001b[39;49m\u001b[38;5;241;43m.\u001b[39;49m\u001b[43mrequest\u001b[49m\u001b[43m(\u001b[49m\u001b[38;5;124;43m\"\u001b[39;49m\u001b[38;5;124;43mGET\u001b[39;49m\u001b[38;5;124;43m\"\u001b[39;49m\u001b[43m,\u001b[49m\u001b[43m \u001b[49m\u001b[43murl\u001b[49m\u001b[43m,\u001b[49m\u001b[43m \u001b[49m\u001b[38;5;241;43m*\u001b[39;49m\u001b[38;5;241;43m*\u001b[39;49m\u001b[43mkwargs\u001b[49m\u001b[43m)\u001b[49m\n",
      "File \u001b[0;32m~/anaconda3/envs/GNN3D/lib/python3.9/site-packages/requests/sessions.py:589\u001b[0m, in \u001b[0;36mSession.request\u001b[0;34m(self, method, url, params, data, headers, cookies, files, auth, timeout, allow_redirects, proxies, hooks, stream, verify, cert, json)\u001b[0m\n\u001b[1;32m    588\u001b[0m send_kwargs\u001b[38;5;241m.\u001b[39mupdate(settings)\n\u001b[0;32m--> 589\u001b[0m resp \u001b[38;5;241m=\u001b[39m \u001b[38;5;28;43mself\u001b[39;49m\u001b[38;5;241;43m.\u001b[39;49m\u001b[43msend\u001b[49m\u001b[43m(\u001b[49m\u001b[43mprep\u001b[49m\u001b[43m,\u001b[49m\u001b[43m \u001b[49m\u001b[38;5;241;43m*\u001b[39;49m\u001b[38;5;241;43m*\u001b[39;49m\u001b[43msend_kwargs\u001b[49m\u001b[43m)\u001b[49m\n\u001b[1;32m    591\u001b[0m \u001b[38;5;28;01mreturn\u001b[39;00m resp\n",
      "File \u001b[0;32m~/anaconda3/envs/GNN3D/lib/python3.9/site-packages/requests/sessions.py:703\u001b[0m, in \u001b[0;36mSession.send\u001b[0;34m(self, request, **kwargs)\u001b[0m\n\u001b[1;32m    702\u001b[0m \u001b[38;5;66;03m# Send the request\u001b[39;00m\n\u001b[0;32m--> 703\u001b[0m r \u001b[38;5;241m=\u001b[39m \u001b[43madapter\u001b[49m\u001b[38;5;241;43m.\u001b[39;49m\u001b[43msend\u001b[49m\u001b[43m(\u001b[49m\u001b[43mrequest\u001b[49m\u001b[43m,\u001b[49m\u001b[43m \u001b[49m\u001b[38;5;241;43m*\u001b[39;49m\u001b[38;5;241;43m*\u001b[39;49m\u001b[43mkwargs\u001b[49m\u001b[43m)\u001b[49m\n\u001b[1;32m    705\u001b[0m \u001b[38;5;66;03m# Total elapsed time of the request (approximately)\u001b[39;00m\n",
      "File \u001b[0;32m~/anaconda3/envs/GNN3D/lib/python3.9/site-packages/huggingface_hub/utils/_http.py:67\u001b[0m, in \u001b[0;36mUniqueRequestIdAdapter.send\u001b[0;34m(self, request, *args, **kwargs)\u001b[0m\n\u001b[1;32m     66\u001b[0m \u001b[38;5;28;01mtry\u001b[39;00m:\n\u001b[0;32m---> 67\u001b[0m     \u001b[38;5;28;01mreturn\u001b[39;00m \u001b[38;5;28;43msuper\u001b[39;49m\u001b[43m(\u001b[49m\u001b[43m)\u001b[49m\u001b[38;5;241;43m.\u001b[39;49m\u001b[43msend\u001b[49m\u001b[43m(\u001b[49m\u001b[43mrequest\u001b[49m\u001b[43m,\u001b[49m\u001b[43m \u001b[49m\u001b[38;5;241;43m*\u001b[39;49m\u001b[43margs\u001b[49m\u001b[43m,\u001b[49m\u001b[43m \u001b[49m\u001b[38;5;241;43m*\u001b[39;49m\u001b[38;5;241;43m*\u001b[39;49m\u001b[43mkwargs\u001b[49m\u001b[43m)\u001b[49m\n\u001b[1;32m     68\u001b[0m \u001b[38;5;28;01mexcept\u001b[39;00m requests\u001b[38;5;241m.\u001b[39mRequestException \u001b[38;5;28;01mas\u001b[39;00m e:\n",
      "File \u001b[0;32m~/anaconda3/envs/GNN3D/lib/python3.9/site-packages/requests/adapters.py:519\u001b[0m, in \u001b[0;36mHTTPAdapter.send\u001b[0;34m(self, request, stream, timeout, verify, cert, proxies)\u001b[0m\n\u001b[1;32m    517\u001b[0m         \u001b[38;5;28;01mraise\u001b[39;00m SSLError(e, request\u001b[38;5;241m=\u001b[39mrequest)\n\u001b[0;32m--> 519\u001b[0m     \u001b[38;5;28;01mraise\u001b[39;00m \u001b[38;5;167;01mConnectionError\u001b[39;00m(e, request\u001b[38;5;241m=\u001b[39mrequest)\n\u001b[1;32m    521\u001b[0m \u001b[38;5;28;01mexcept\u001b[39;00m ClosedPoolError \u001b[38;5;28;01mas\u001b[39;00m e:\n",
      "\u001b[0;31mConnectionError\u001b[0m: (MaxRetryError(\"HTTPSConnectionPool(host='huggingface.co', port=443): Max retries exceeded with url: /api/models/flamehaze1115/wonder3d-v1.0 (Caused by NewConnectionError('<urllib3.connection.HTTPSConnection object at 0x7fc5e8257dc0>: Failed to establish a new connection: [Errno 101] Network is unreachable'))\"), '(Request ID: b182ac7e-1f96-44a2-8f64-1cf6aad7a07a)')",
      "\nThe above exception was the direct cause of the following exception:\n",
      "\u001b[0;31mOSError\u001b[0m                                   Traceback (most recent call last)",
      "Cell \u001b[0;32mIn[4], line 1\u001b[0m\n\u001b[0;32m----> 1\u001b[0m pipeline \u001b[38;5;241m=\u001b[39m \u001b[43mDiffusionPipeline\u001b[49m\u001b[38;5;241;43m.\u001b[39;49m\u001b[43mfrom_pretrained\u001b[49m\u001b[43m(\u001b[49m\n\u001b[1;32m      2\u001b[0m \u001b[38;5;124;43m'\u001b[39;49m\u001b[38;5;124;43mflamehaze1115/wonder3d-v1.0\u001b[39;49m\u001b[38;5;124;43m'\u001b[39;49m\u001b[43m,\u001b[49m\u001b[43m \u001b[49m\u001b[38;5;66;43;03m# or use local checkpoint './ckpts'\u001b[39;49;00m\n\u001b[1;32m      3\u001b[0m \u001b[43mcustom_pipeline\u001b[49m\u001b[38;5;241;43m=\u001b[39;49m\u001b[38;5;124;43m'\u001b[39;49m\u001b[38;5;124;43mflamehaze1115/wonder3d-pipeline\u001b[39;49m\u001b[38;5;124;43m'\u001b[39;49m\u001b[43m,\u001b[49m\n\u001b[1;32m      4\u001b[0m \u001b[43mtorch_dtype\u001b[49m\u001b[38;5;241;43m=\u001b[39;49m\u001b[43mtorch\u001b[49m\u001b[38;5;241;43m.\u001b[39;49m\u001b[43mfloat16\u001b[49m\u001b[43m,\u001b[49m\n\u001b[1;32m      5\u001b[0m \u001b[43mcache_dir\u001b[49m\u001b[43m \u001b[49m\u001b[38;5;241;43m=\u001b[39;49m\u001b[43m \u001b[49m\u001b[38;5;124;43m'\u001b[39;49m\u001b[38;5;124;43m./GNN3D/weights\u001b[39;49m\u001b[38;5;124;43m'\u001b[39;49m\n\u001b[1;32m      6\u001b[0m \u001b[43m)\u001b[49m\n",
      "File \u001b[0;32m~/anaconda3/envs/GNN3D/lib/python3.9/site-packages/huggingface_hub/utils/_validators.py:118\u001b[0m, in \u001b[0;36mvalidate_hf_hub_args.<locals>._inner_fn\u001b[0;34m(*args, **kwargs)\u001b[0m\n\u001b[1;32m    115\u001b[0m \u001b[38;5;28;01mif\u001b[39;00m check_use_auth_token:\n\u001b[1;32m    116\u001b[0m     kwargs \u001b[38;5;241m=\u001b[39m smoothly_deprecate_use_auth_token(fn_name\u001b[38;5;241m=\u001b[39mfn\u001b[38;5;241m.\u001b[39m\u001b[38;5;18m__name__\u001b[39m, has_token\u001b[38;5;241m=\u001b[39mhas_token, kwargs\u001b[38;5;241m=\u001b[39mkwargs)\n\u001b[0;32m--> 118\u001b[0m \u001b[38;5;28;01mreturn\u001b[39;00m \u001b[43mfn\u001b[49m\u001b[43m(\u001b[49m\u001b[38;5;241;43m*\u001b[39;49m\u001b[43margs\u001b[49m\u001b[43m,\u001b[49m\u001b[43m \u001b[49m\u001b[38;5;241;43m*\u001b[39;49m\u001b[38;5;241;43m*\u001b[39;49m\u001b[43mkwargs\u001b[49m\u001b[43m)\u001b[49m\n",
      "File \u001b[0;32m~/anaconda3/envs/GNN3D/lib/python3.9/site-packages/diffusers/pipelines/pipeline_utils.py:1111\u001b[0m, in \u001b[0;36mDiffusionPipeline.from_pretrained\u001b[0;34m(cls, pretrained_model_name_or_path, **kwargs)\u001b[0m\n\u001b[1;32m   1106\u001b[0m     \u001b[38;5;28;01mif\u001b[39;00m pretrained_model_name_or_path\u001b[38;5;241m.\u001b[39mcount(\u001b[38;5;124m\"\u001b[39m\u001b[38;5;124m/\u001b[39m\u001b[38;5;124m\"\u001b[39m) \u001b[38;5;241m>\u001b[39m \u001b[38;5;241m1\u001b[39m:\n\u001b[1;32m   1107\u001b[0m         \u001b[38;5;28;01mraise\u001b[39;00m \u001b[38;5;167;01mValueError\u001b[39;00m(\n\u001b[1;32m   1108\u001b[0m             \u001b[38;5;124mf\u001b[39m\u001b[38;5;124m'\u001b[39m\u001b[38;5;124mThe provided pretrained_model_name_or_path \u001b[39m\u001b[38;5;124m\"\u001b[39m\u001b[38;5;132;01m{\u001b[39;00mpretrained_model_name_or_path\u001b[38;5;132;01m}\u001b[39;00m\u001b[38;5;124m\"\u001b[39m\u001b[38;5;124m'\u001b[39m\n\u001b[1;32m   1109\u001b[0m             \u001b[38;5;124m\"\u001b[39m\u001b[38;5;124m is neither a valid local path nor a valid repo id. Please check the parameter.\u001b[39m\u001b[38;5;124m\"\u001b[39m\n\u001b[1;32m   1110\u001b[0m         )\n\u001b[0;32m-> 1111\u001b[0m     cached_folder \u001b[38;5;241m=\u001b[39m \u001b[38;5;28;43mcls\u001b[39;49m\u001b[38;5;241;43m.\u001b[39;49m\u001b[43mdownload\u001b[49m\u001b[43m(\u001b[49m\n\u001b[1;32m   1112\u001b[0m \u001b[43m        \u001b[49m\u001b[43mpretrained_model_name_or_path\u001b[49m\u001b[43m,\u001b[49m\n\u001b[1;32m   1113\u001b[0m \u001b[43m        \u001b[49m\u001b[43mcache_dir\u001b[49m\u001b[38;5;241;43m=\u001b[39;49m\u001b[43mcache_dir\u001b[49m\u001b[43m,\u001b[49m\n\u001b[1;32m   1114\u001b[0m \u001b[43m        \u001b[49m\u001b[43mresume_download\u001b[49m\u001b[38;5;241;43m=\u001b[39;49m\u001b[43mresume_download\u001b[49m\u001b[43m,\u001b[49m\n\u001b[1;32m   1115\u001b[0m \u001b[43m        \u001b[49m\u001b[43mforce_download\u001b[49m\u001b[38;5;241;43m=\u001b[39;49m\u001b[43mforce_download\u001b[49m\u001b[43m,\u001b[49m\n\u001b[1;32m   1116\u001b[0m \u001b[43m        \u001b[49m\u001b[43mproxies\u001b[49m\u001b[38;5;241;43m=\u001b[39;49m\u001b[43mproxies\u001b[49m\u001b[43m,\u001b[49m\n\u001b[1;32m   1117\u001b[0m \u001b[43m        \u001b[49m\u001b[43mlocal_files_only\u001b[49m\u001b[38;5;241;43m=\u001b[39;49m\u001b[43mlocal_files_only\u001b[49m\u001b[43m,\u001b[49m\n\u001b[1;32m   1118\u001b[0m \u001b[43m        \u001b[49m\u001b[43mtoken\u001b[49m\u001b[38;5;241;43m=\u001b[39;49m\u001b[43mtoken\u001b[49m\u001b[43m,\u001b[49m\n\u001b[1;32m   1119\u001b[0m \u001b[43m        \u001b[49m\u001b[43mrevision\u001b[49m\u001b[38;5;241;43m=\u001b[39;49m\u001b[43mrevision\u001b[49m\u001b[43m,\u001b[49m\n\u001b[1;32m   1120\u001b[0m \u001b[43m        \u001b[49m\u001b[43mfrom_flax\u001b[49m\u001b[38;5;241;43m=\u001b[39;49m\u001b[43mfrom_flax\u001b[49m\u001b[43m,\u001b[49m\n\u001b[1;32m   1121\u001b[0m \u001b[43m        \u001b[49m\u001b[43muse_safetensors\u001b[49m\u001b[38;5;241;43m=\u001b[39;49m\u001b[43muse_safetensors\u001b[49m\u001b[43m,\u001b[49m\n\u001b[1;32m   1122\u001b[0m \u001b[43m        \u001b[49m\u001b[43muse_onnx\u001b[49m\u001b[38;5;241;43m=\u001b[39;49m\u001b[43muse_onnx\u001b[49m\u001b[43m,\u001b[49m\n\u001b[1;32m   1123\u001b[0m \u001b[43m        \u001b[49m\u001b[43mcustom_pipeline\u001b[49m\u001b[38;5;241;43m=\u001b[39;49m\u001b[43mcustom_pipeline\u001b[49m\u001b[43m,\u001b[49m\n\u001b[1;32m   1124\u001b[0m \u001b[43m        \u001b[49m\u001b[43mcustom_revision\u001b[49m\u001b[38;5;241;43m=\u001b[39;49m\u001b[43mcustom_revision\u001b[49m\u001b[43m,\u001b[49m\n\u001b[1;32m   1125\u001b[0m \u001b[43m        \u001b[49m\u001b[43mvariant\u001b[49m\u001b[38;5;241;43m=\u001b[39;49m\u001b[43mvariant\u001b[49m\u001b[43m,\u001b[49m\n\u001b[1;32m   1126\u001b[0m \u001b[43m        \u001b[49m\u001b[43mload_connected_pipeline\u001b[49m\u001b[38;5;241;43m=\u001b[39;49m\u001b[43mload_connected_pipeline\u001b[49m\u001b[43m,\u001b[49m\n\u001b[1;32m   1127\u001b[0m \u001b[43m        \u001b[49m\u001b[38;5;241;43m*\u001b[39;49m\u001b[38;5;241;43m*\u001b[39;49m\u001b[43mkwargs\u001b[49m\u001b[43m,\u001b[49m\n\u001b[1;32m   1128\u001b[0m \u001b[43m    \u001b[49m\u001b[43m)\u001b[49m\n\u001b[1;32m   1129\u001b[0m \u001b[38;5;28;01melse\u001b[39;00m:\n\u001b[1;32m   1130\u001b[0m     cached_folder \u001b[38;5;241m=\u001b[39m pretrained_model_name_or_path\n",
      "File \u001b[0;32m~/anaconda3/envs/GNN3D/lib/python3.9/site-packages/huggingface_hub/utils/_validators.py:118\u001b[0m, in \u001b[0;36mvalidate_hf_hub_args.<locals>._inner_fn\u001b[0;34m(*args, **kwargs)\u001b[0m\n\u001b[1;32m    115\u001b[0m \u001b[38;5;28;01mif\u001b[39;00m check_use_auth_token:\n\u001b[1;32m    116\u001b[0m     kwargs \u001b[38;5;241m=\u001b[39m smoothly_deprecate_use_auth_token(fn_name\u001b[38;5;241m=\u001b[39mfn\u001b[38;5;241m.\u001b[39m\u001b[38;5;18m__name__\u001b[39m, has_token\u001b[38;5;241m=\u001b[39mhas_token, kwargs\u001b[38;5;241m=\u001b[39mkwargs)\n\u001b[0;32m--> 118\u001b[0m \u001b[38;5;28;01mreturn\u001b[39;00m \u001b[43mfn\u001b[49m\u001b[43m(\u001b[49m\u001b[38;5;241;43m*\u001b[39;49m\u001b[43margs\u001b[49m\u001b[43m,\u001b[49m\u001b[43m \u001b[49m\u001b[38;5;241;43m*\u001b[39;49m\u001b[38;5;241;43m*\u001b[39;49m\u001b[43mkwargs\u001b[49m\u001b[43m)\u001b[49m\n",
      "File \u001b[0;32m~/anaconda3/envs/GNN3D/lib/python3.9/site-packages/diffusers/pipelines/pipeline_utils.py:1920\u001b[0m, in \u001b[0;36mDiffusionPipeline.download\u001b[0;34m(cls, pretrained_model_name, **kwargs)\u001b[0m\n\u001b[1;32m   1917\u001b[0m     \u001b[38;5;28;01mraise\u001b[39;00m\n\u001b[1;32m   1918\u001b[0m \u001b[38;5;28;01melse\u001b[39;00m:\n\u001b[1;32m   1919\u001b[0m     \u001b[38;5;66;03m# 2. we forced `local_files_only=True` when `model_info` failed\u001b[39;00m\n\u001b[0;32m-> 1920\u001b[0m     \u001b[38;5;28;01mraise\u001b[39;00m \u001b[38;5;167;01mEnvironmentError\u001b[39;00m(\n\u001b[1;32m   1921\u001b[0m         \u001b[38;5;124mf\u001b[39m\u001b[38;5;124m\"\u001b[39m\u001b[38;5;124mCannot load model \u001b[39m\u001b[38;5;132;01m{\u001b[39;00mpretrained_model_name\u001b[38;5;132;01m}\u001b[39;00m\u001b[38;5;124m: model is not cached locally and an error occured\u001b[39m\u001b[38;5;124m\"\u001b[39m\n\u001b[1;32m   1922\u001b[0m         \u001b[38;5;124m\"\u001b[39m\u001b[38;5;124m while trying to fetch metadata from the Hub. Please check out the root cause in the stacktrace\u001b[39m\u001b[38;5;124m\"\u001b[39m\n\u001b[1;32m   1923\u001b[0m         \u001b[38;5;124m\"\u001b[39m\u001b[38;5;124m above.\u001b[39m\u001b[38;5;124m\"\u001b[39m\n\u001b[1;32m   1924\u001b[0m     ) \u001b[38;5;28;01mfrom\u001b[39;00m \u001b[38;5;21;01mmodel_info_call_error\u001b[39;00m\n",
      "\u001b[0;31mOSError\u001b[0m: Cannot load model flamehaze1115/wonder3d-v1.0: model is not cached locally and an error occured while trying to fetch metadata from the Hub. Please check out the root cause in the stacktrace above."
     ]
    }
   ],
   "source": [
    "\n",
    "\n",
    "\n",
    "\n",
    "pipeline = DiffusionPipeline.from_pretrained(\n",
    "'flamehaze1115/wonder3d-v1.0', # or use local checkpoint './ckpts'\n",
    "custom_pipeline='flamehaze1115/wonder3d-pipeline',\n",
    "torch_dtype=torch.float16,\n",
    "cache_dir = './GNN3D/weights'\n",
    ")"
   ]
  },
  {
   "cell_type": "code",
   "execution_count": 4,
   "metadata": {
    "ExecuteTime": {
     "end_time": "2024-02-05T13:43:49.850112500Z",
     "start_time": "2024-02-05T13:43:42.270202900Z"
    },
    "collapsed": false
   },
   "outputs": [
    {
     "name": "stderr",
     "output_type": "stream",
     "text": [
      "Some weights of UNetMV2DConditionModel were not initialized from the model checkpoint at D:/work/GNN3D/weights/models--lambdalabs--sd-image-variations-diffusers/snapshots/42bc0ee1726b141d49f519a6ea02ccfbf073db2e/unet and are newly initialized because the shapes did not match:\n",
      "- conv_in.weight: found shape torch.Size([320, 4, 3, 3]) in the checkpoint and torch.Size([320, 8, 3, 3]) in the model instantiated\n",
      "You should probably TRAIN this model on a down-stream task to be able to use it for predictions and inference.\n"
     ]
    }
   ],
   "source": [
    "# try load model id\n",
    "model_id = 'D:/work/GNN3D/weights/models--lambdalabs--sd-image-variations-diffusers/snapshots/42bc0ee1726b141d49f519a6ea02ccfbf073db2e/unet'\n",
    "revision = 'v2.0'\n",
    "\n",
    "unet = UNetMV2DConditionModel.from_pretrained(model_id,in_channels=8,low_cpu_mem_usage=False, ignore_mismatched_sizes=True)\n"
   ]
  },
  {
   "cell_type": "code",
   "execution_count": 2,
   "metadata": {
    "ExecuteTime": {
     "end_time": "2024-02-05T13:59:55.858165300Z",
     "start_time": "2024-02-05T13:59:53.867042800Z"
    },
    "collapsed": false
   },
   "outputs": [
    {
     "name": "stderr",
     "output_type": "stream",
     "text": [
      "The config attributes {'cross_domain_attention': False, 'joint_attention': False, 'joint_attention_twice': True} were passed to UNetMV2DConditionModel, but are not expected and will be ignored. Please verify your config.json configuration file.\n"
     ]
    }
   ],
   "source": [
    "wonder_id = 'C:/Users/Xiang/.cache/huggingface/hub/models--flamehaze1115--wonder3d-v1.0/snapshots/d6d2efc033a06a74d3761268de7295c97e6935d2/unet'\n",
    "unet = UNetMV2DConditionModel.from_pretrained(wonder_id)"
   ]
  },
  {
   "cell_type": "code",
   "execution_count": 3,
   "metadata": {
    "ExecuteTime": {
     "end_time": "2024-02-05T14:03:41.400959700Z",
     "start_time": "2024-02-05T14:03:36.994235800Z"
    },
    "collapsed": false
   },
   "outputs": [],
   "source": [
    "unet.enable_xformers_memory_efficient_attention()"
   ]
  },
  {
   "cell_type": "code",
   "execution_count": 5,
   "metadata": {
    "ExecuteTime": {
     "end_time": "2024-02-05T14:04:02.349500200Z",
     "start_time": "2024-02-05T14:04:02.340326300Z"
    },
    "collapsed": false
   },
   "outputs": [
    {
     "data": {
      "text/plain": [
       "FrozenDict([('sample_size', 32),\n",
       "            ('in_channels', 8),\n",
       "            ('out_channels', 4),\n",
       "            ('center_input_sample', False),\n",
       "            ('flip_sin_to_cos', True),\n",
       "            ('freq_shift', 0),\n",
       "            ('down_block_types',\n",
       "             ['CrossAttnDownBlockMV2D',\n",
       "              'CrossAttnDownBlockMV2D',\n",
       "              'CrossAttnDownBlockMV2D',\n",
       "              'DownBlock2D']),\n",
       "            ('mid_block_type', 'UNetMidBlockMV2DCrossAttn'),\n",
       "            ('up_block_types',\n",
       "             ['UpBlock2D',\n",
       "              'CrossAttnUpBlockMV2D',\n",
       "              'CrossAttnUpBlockMV2D',\n",
       "              'CrossAttnUpBlockMV2D']),\n",
       "            ('only_cross_attention', False),\n",
       "            ('block_out_channels', [320, 640, 1280, 1280]),\n",
       "            ('layers_per_block', 2),\n",
       "            ('downsample_padding', 1),\n",
       "            ('mid_block_scale_factor', 1),\n",
       "            ('act_fn', 'silu'),\n",
       "            ('norm_num_groups', 32),\n",
       "            ('norm_eps', 1e-05),\n",
       "            ('cross_attention_dim', 768),\n",
       "            ('transformer_layers_per_block', 1),\n",
       "            ('encoder_hid_dim', None),\n",
       "            ('encoder_hid_dim_type', None),\n",
       "            ('attention_head_dim', 8),\n",
       "            ('num_attention_heads', None),\n",
       "            ('dual_cross_attention', False),\n",
       "            ('use_linear_projection', False),\n",
       "            ('class_embed_type', 'projection'),\n",
       "            ('addition_embed_type', None),\n",
       "            ('addition_time_embed_dim', None),\n",
       "            ('num_class_embeds', None),\n",
       "            ('upcast_attention', False),\n",
       "            ('resnet_time_scale_shift', 'default'),\n",
       "            ('resnet_skip_time_act', False),\n",
       "            ('resnet_out_scale_factor', 1.0),\n",
       "            ('time_embedding_type', 'positional'),\n",
       "            ('time_embedding_dim', None),\n",
       "            ('time_embedding_act_fn', None),\n",
       "            ('timestep_post_act', None),\n",
       "            ('time_cond_proj_dim', None),\n",
       "            ('conv_in_kernel', 3),\n",
       "            ('conv_out_kernel', 3),\n",
       "            ('projection_class_embeddings_input_dim', 10),\n",
       "            ('class_embeddings_concat', False),\n",
       "            ('mid_block_only_cross_attention', None),\n",
       "            ('cross_attention_norm', None),\n",
       "            ('addition_embed_type_num_heads', 64),\n",
       "            ('num_views', 6),\n",
       "            ('cd_attention_last', False),\n",
       "            ('cd_attention_mid', True),\n",
       "            ('multiview_attention', True),\n",
       "            ('sparse_mv_attention', False),\n",
       "            ('mvcd_attention', False),\n",
       "            ('_class_name', 'UNetMV2DConditionModel'),\n",
       "            ('_diffusers_version', '0.19.3'),\n",
       "            ('_name_or_path',\n",
       "             'C:/Users/Xiang/.cache/huggingface/hub/models--flamehaze1115--wonder3d-v1.0/snapshots/d6d2efc033a06a74d3761268de7295c97e6935d2/unet'),\n",
       "            ('cross_domain_attention', False),\n",
       "            ('joint_attention', False),\n",
       "            ('joint_attention_twice', True)])"
      ]
     },
     "execution_count": 5,
     "metadata": {},
     "output_type": "execute_result"
    }
   ],
   "source": [
    "unet.config"
   ]
  },
  {
   "cell_type": "code",
   "execution_count": 7,
   "metadata": {
    "ExecuteTime": {
     "end_time": "2024-02-05T14:09:10.890373700Z",
     "start_time": "2024-02-05T14:08:55.446847500Z"
    },
    "collapsed": false
   },
   "outputs": [],
   "source": [
    "# test input, output\n",
    "# predict the noise residual\n",
    "# latent_model_input (12,8,32,32)\n",
    "# image embeddings (12,1,768)\n",
    "# class_labels \n",
    "\n",
    "latent_model_input = torch.randn(size = (12,8,32,32)).to('cuda')\n",
    "image_embeddings = torch.randn(size = (12,1,768)).to('cuda')\n",
    "camera_embeddings = torch.randn(size = (12,10)).to('cuda')\n",
    "t = torch.tensor(950.).to('cuda')\n",
    "unet.to('cuda')\n",
    "noise_pred = unet(latent_model_input, t, encoder_hidden_states=image_embeddings, class_labels=camera_embeddings).sample\n"
   ]
  },
  {
   "cell_type": "code",
   "execution_count": 9,
   "metadata": {
    "ExecuteTime": {
     "end_time": "2024-02-05T14:09:29.818978100Z",
     "start_time": "2024-02-05T14:09:29.767443400Z"
    },
    "collapsed": false
   },
   "outputs": [
    {
     "data": {
      "text/plain": [
       "tensor([[[[ 1.6451, -0.7944,  2.0928,  ...,  1.3754,  0.6563,  1.7017],\n",
       "          [ 1.1369,  0.0205,  0.3306,  ...,  0.1336, -1.4247, -0.0861],\n",
       "          [-0.7323, -0.7516,  1.4478,  ..., -0.0486,  0.4949,  1.3067],\n",
       "          ...,\n",
       "          [ 0.1738,  0.0539, -0.7371,  ...,  0.7548,  1.1351, -0.1594],\n",
       "          [-1.1450,  1.0165, -0.0416,  ..., -0.2504,  0.7586,  2.4113],\n",
       "          [-1.1008,  0.5582,  0.2755,  ...,  0.7030,  2.4381,  0.5441]],\n",
       "\n",
       "         [[-0.1480, -1.2908,  0.6926,  ..., -1.0000, -0.6202,  0.3504],\n",
       "          [-3.0567, -0.6264,  1.1325,  ...,  0.6143,  0.2469,  0.2414],\n",
       "          [ 1.4290, -1.4810, -0.3120,  ...,  0.8861,  1.1703, -0.0359],\n",
       "          ...,\n",
       "          [-1.6988,  0.2924, -0.7695,  ...,  0.1713,  0.9562, -1.1710],\n",
       "          [ 0.3860,  0.4149,  0.9479,  ...,  0.6074,  0.1053, -0.9838],\n",
       "          [ 0.6721,  1.1418,  1.4959,  ...,  0.5179,  0.5675,  2.6051]],\n",
       "\n",
       "         [[-0.0511,  0.0584, -0.5652,  ...,  1.7786, -0.2101,  0.5164],\n",
       "          [-0.7629,  0.1641, -0.2185,  ...,  0.0835,  0.5635, -0.8411],\n",
       "          [-0.8743,  0.9732, -0.2125,  ...,  1.3254, -0.7805, -0.3956],\n",
       "          ...,\n",
       "          [-0.5005,  1.3029,  0.2113,  ...,  1.7219,  0.0164, -1.0121],\n",
       "          [-0.8427, -0.1343, -2.2022,  ..., -0.8174,  2.3839,  0.7985],\n",
       "          [-0.9543,  1.0504, -0.1829,  ...,  1.2013,  1.9522,  0.1663]],\n",
       "\n",
       "         [[ 0.3318, -0.3537,  2.2901,  ...,  0.1564,  0.6835, -0.8850],\n",
       "          [ 2.2678,  0.5398,  0.5498,  ..., -0.3231,  0.0485,  2.1954],\n",
       "          [-0.3250,  2.4689,  0.0862,  ..., -0.0420, -1.5010, -0.7205],\n",
       "          ...,\n",
       "          [-0.5434, -0.7350,  0.3234,  ..., -1.2147, -1.9451, -0.4770],\n",
       "          [ 0.9723, -0.6079,  1.2390,  ...,  2.3099,  0.2019,  1.0996],\n",
       "          [-0.9937,  0.3592, -0.7227,  ...,  0.2545,  1.1788, -0.8716]]],\n",
       "\n",
       "\n",
       "        [[[-0.0517,  0.5672, -0.7208,  ..., -1.4685, -0.2023, -2.0666],\n",
       "          [ 1.0791,  0.1591,  0.3401,  ...,  0.8539,  1.3936,  0.7260],\n",
       "          [ 0.2018, -0.4766, -0.7752,  ...,  0.0511, -1.5505,  0.7490],\n",
       "          ...,\n",
       "          [ 0.9712, -0.1884, -0.2943,  ...,  0.4025,  0.7361, -0.2702],\n",
       "          [-0.6178,  1.0534,  1.3083,  ..., -1.7715, -1.0573, -1.3358],\n",
       "          [ 1.2599, -0.5898,  1.2050,  ...,  0.3227,  0.2095,  1.1529]],\n",
       "\n",
       "         [[-0.7254, -0.3757, -0.4770,  ...,  0.2449,  0.2274, -0.7720],\n",
       "          [-0.4069, -1.1909, -0.3491,  ..., -1.5485, -1.3881, -3.0187],\n",
       "          [-0.3660, -0.1584, -0.7848,  ..., -0.6429,  0.4670,  0.4878],\n",
       "          ...,\n",
       "          [-1.8313,  0.9247,  1.0265,  ...,  0.4992,  1.0036,  0.7065],\n",
       "          [ 0.9092,  1.3106, -0.3110,  ...,  0.1199,  0.3944,  0.2740],\n",
       "          [-0.1681, -0.3674, -2.8470,  ...,  0.4610, -0.2275,  0.0744]],\n",
       "\n",
       "         [[-0.0356,  0.2487, -0.0797,  ...,  0.0633,  0.7087, -0.7362],\n",
       "          [-0.4635,  0.2378, -0.9812,  ...,  1.2092, -0.8358,  0.9635],\n",
       "          [ 0.2759, -1.1382,  0.2969,  ...,  1.0461, -2.0561, -1.6810],\n",
       "          ...,\n",
       "          [ 1.2381, -0.1791, -0.6047,  ..., -0.4772,  0.6471, -0.1182],\n",
       "          [ 0.3386, -1.7838, -0.3684,  ...,  1.0106, -0.8760,  0.4136],\n",
       "          [-0.4824,  0.2365,  0.1667,  ...,  0.1908,  1.5516, -1.2503]],\n",
       "\n",
       "         [[-0.2977,  0.4094, -0.2997,  ..., -0.4531, -1.3316, -0.9518],\n",
       "          [ 2.0546,  1.1127,  0.4397,  ..., -0.5699,  1.3497, -0.3703],\n",
       "          [ 0.7215, -0.4062,  1.1427,  ...,  1.1674, -1.2056,  0.0593],\n",
       "          ...,\n",
       "          [-0.6074,  0.5489, -0.5875,  ...,  0.8330,  1.0761,  0.2618],\n",
       "          [ 0.1627,  1.0496,  0.4177,  ...,  0.4471, -0.0388, -0.7155],\n",
       "          [ 0.1049, -1.8659, -1.7550,  ...,  0.7481,  1.5260,  1.3089]]],\n",
       "\n",
       "\n",
       "        [[[ 0.8478, -0.4102, -2.5193,  ...,  0.0984, -0.1651, -0.1609],\n",
       "          [ 1.2434,  1.7667, -1.3784,  ...,  0.7574, -0.4476,  2.1529],\n",
       "          [ 0.9316,  1.4749,  0.2697,  ..., -0.2438,  0.4851,  0.6126],\n",
       "          ...,\n",
       "          [-0.1239,  1.3412,  1.8695,  ...,  0.6055,  0.5806, -0.2421],\n",
       "          [ 0.7782, -0.0066,  1.2692,  ...,  0.1159, -0.0545, -0.0253],\n",
       "          [ 0.3360,  0.6741,  1.4351,  ..., -0.1568, -0.0623, -0.2637]],\n",
       "\n",
       "         [[ 0.7374, -0.2590,  0.7153,  ...,  1.3784, -1.8214, -0.3110],\n",
       "          [-0.8850, -1.1939,  0.4951,  ..., -0.6387,  1.3612, -1.2291],\n",
       "          [-0.4462, -1.2435, -2.8738,  ..., -1.7665, -1.2342, -0.1654],\n",
       "          ...,\n",
       "          [ 0.6389, -0.2604, -0.4195,  ...,  0.7141, -0.1555, -0.0883],\n",
       "          [-1.0700, -0.3776, -1.0578,  ...,  0.3215, -1.5012, -0.4519],\n",
       "          [-1.0929, -2.4554, -0.1259,  ..., -0.8042, -1.3159, -2.9876]],\n",
       "\n",
       "         [[ 0.8511,  0.5487, -0.5948,  ..., -1.9440, -0.3343,  1.4273],\n",
       "          [-0.0230, -0.1508, -1.6267,  ..., -0.9426, -1.1210,  0.5514],\n",
       "          [ 0.5407, -1.1848, -0.1900,  ...,  1.3452,  0.4851, -0.0534],\n",
       "          ...,\n",
       "          [-0.2708,  0.0818, -0.7103,  ...,  0.4202,  1.2406, -0.8460],\n",
       "          [-0.8983, -0.3702,  0.2334,  ..., -1.6940, -0.7119, -0.3595],\n",
       "          [-0.4401,  1.4460, -0.3785,  ..., -0.7779,  0.2660, -1.2937]],\n",
       "\n",
       "         [[-0.6473, -0.0815,  1.3615,  ...,  1.5447,  0.3559, -0.0366],\n",
       "          [-0.2035,  0.1517, -0.9972,  ..., -0.3776, -1.9467, -0.8661],\n",
       "          [-0.3667, -0.1371, -1.4519,  ..., -0.8749,  0.6391, -0.6687],\n",
       "          ...,\n",
       "          [ 1.2973,  1.3074,  1.5623,  ...,  1.6783,  0.3883,  0.3528],\n",
       "          [-0.0234,  0.2919, -0.1810,  ...,  0.2229, -1.0824, -1.8483],\n",
       "          [-0.8610,  1.0761,  1.3495,  ...,  1.2157, -0.4032,  0.1749]]],\n",
       "\n",
       "\n",
       "        ...,\n",
       "\n",
       "\n",
       "        [[[-0.9362, -1.3697, -1.5134,  ..., -1.4268,  1.2482, -1.5188],\n",
       "          [ 0.1357, -0.7029, -1.1534,  ..., -1.2851, -0.6229, -0.4342],\n",
       "          [ 0.3602, -1.0590,  1.7153,  ...,  1.3642,  1.2441,  0.8917],\n",
       "          ...,\n",
       "          [-0.6323,  0.7598,  1.8533,  ...,  0.2394,  1.4748, -0.3411],\n",
       "          [ 0.9477, -1.1941,  1.7332,  ..., -0.9044, -0.3967, -0.3133],\n",
       "          [-0.3990,  1.1745,  0.8581,  ...,  1.7435, -0.7554,  2.6278]],\n",
       "\n",
       "         [[ 1.7731,  0.3364, -0.8945,  ..., -0.6741, -0.1874,  0.1310],\n",
       "          [ 0.5376,  0.4274,  0.9676,  ..., -1.4034,  0.7991,  1.1565],\n",
       "          [ 1.6146,  0.7871, -1.7934,  ..., -0.0553,  0.5038, -2.0634],\n",
       "          ...,\n",
       "          [ 2.4868,  0.8877, -2.6309,  ...,  2.1472,  1.8809, -0.0177],\n",
       "          [ 1.2146,  0.3836,  0.9260,  ..., -0.4056, -1.1927, -0.0823],\n",
       "          [ 1.7826,  0.5581, -0.2190,  ..., -0.4558, -0.4873, -0.6368]],\n",
       "\n",
       "         [[ 1.4314, -1.3507, -0.8560,  ..., -1.6562,  2.5904,  0.9740],\n",
       "          [-0.7882, -0.9744,  0.0397,  ...,  0.9062, -0.1725, -0.5764],\n",
       "          [ 0.2075, -1.4186,  0.7810,  ..., -0.1071, -1.0949,  0.0962],\n",
       "          ...,\n",
       "          [ 0.8092, -1.3989, -2.1795,  ..., -0.4024,  0.1533,  0.2647],\n",
       "          [-0.5261, -0.7109, -1.3242,  ..., -0.9845,  0.0706, -1.2910],\n",
       "          [ 0.0494, -0.2590,  0.9319,  ..., -2.2306,  0.5862, -1.5686]],\n",
       "\n",
       "         [[ 0.9711, -1.2399,  0.0179,  ..., -1.0243,  0.5519, -1.9559],\n",
       "          [-1.7576, -0.8959,  1.3898,  ...,  0.4878, -0.8974,  1.0080],\n",
       "          [ 1.4072,  0.9016,  0.6839,  ...,  0.5764, -0.9803,  1.7787],\n",
       "          ...,\n",
       "          [ 0.2674,  1.3645,  0.0067,  ..., -0.5945, -1.4442,  0.8985],\n",
       "          [-0.2151,  0.9028, -0.9412,  ...,  0.2232, -0.0072,  1.3685],\n",
       "          [-1.1680,  1.2592, -0.4490,  ...,  1.4858, -0.4439,  1.3538]]],\n",
       "\n",
       "\n",
       "        [[[-2.5770,  0.8404, -1.4008,  ..., -0.3441,  0.5361, -0.0215],\n",
       "          [-0.9139,  0.5514,  0.7261,  ...,  0.2538,  1.1718,  0.8411],\n",
       "          [ 0.2171, -0.7293, -0.1927,  ..., -0.0214,  0.8158,  0.3758],\n",
       "          ...,\n",
       "          [ 0.1934,  1.0913,  0.5395,  ..., -1.0246, -1.3996, -0.5503],\n",
       "          [ 2.3549,  0.4324,  0.0077,  ...,  0.3126, -0.6194,  0.5152],\n",
       "          [-0.2035, -0.5156,  0.8686,  ...,  1.7209, -2.3807,  1.6075]],\n",
       "\n",
       "         [[-0.1444,  1.5912,  1.2255,  ..., -0.1439,  0.4334,  0.2346],\n",
       "          [-0.2632, -1.0926, -0.9748,  ..., -0.5001, -1.5029, -0.3481],\n",
       "          [ 0.1363, -2.1197,  1.7956,  ..., -0.1426, -0.4612,  0.3032],\n",
       "          ...,\n",
       "          [-0.7559,  0.6024,  0.1397,  ..., -1.7361, -3.1479,  0.3672],\n",
       "          [ 0.0670,  0.9187, -0.7429,  ...,  0.8131, -3.6100, -0.3612],\n",
       "          [ 1.6534,  0.3923, -1.6115,  ..., -0.7127, -1.6497,  1.8216]],\n",
       "\n",
       "         [[ 0.9891,  1.7815, -1.0696,  ..., -1.0459, -0.5550,  0.3953],\n",
       "          [ 1.0213, -0.3761, -1.8289,  ..., -0.6218,  0.2190, -1.3668],\n",
       "          [-0.2589, -1.7799, -1.0378,  ...,  0.5590,  1.5289,  0.6182],\n",
       "          ...,\n",
       "          [-0.1081, -0.1764,  0.5391,  ..., -0.0687, -0.6841,  1.3008],\n",
       "          [-0.2048,  0.3643, -1.8669,  ..., -0.2403,  1.4023, -0.1900],\n",
       "          [-0.0566, -0.7673, -1.2618,  ..., -1.0027,  1.9014,  1.0120]],\n",
       "\n",
       "         [[-1.7615, -0.8087, -2.1549,  ..., -1.1517, -1.1133, -1.1658],\n",
       "          [-0.0755, -0.5675,  0.4161,  ..., -1.0209, -0.4150, -1.6905],\n",
       "          [ 0.1778, -0.6896, -0.6605,  ...,  0.0796,  0.3188,  1.5377],\n",
       "          ...,\n",
       "          [-0.3127, -1.3065,  1.5647,  ..., -0.8763, -0.7050,  0.5178],\n",
       "          [ 1.3019, -0.3705, -0.4952,  ...,  0.2502,  1.0621, -0.2779],\n",
       "          [ 0.1744, -1.1839,  0.7073,  ...,  1.3707,  0.6741,  0.4305]]],\n",
       "\n",
       "\n",
       "        [[[-1.0703, -0.3654,  1.4367,  ..., -1.5816,  1.0106,  0.5037],\n",
       "          [ 0.0267,  0.2197,  1.5249,  ...,  0.5892, -0.5786, -1.4866],\n",
       "          [ 0.3494,  0.6328,  1.2842,  ..., -0.2589, -0.8002, -0.6409],\n",
       "          ...,\n",
       "          [-0.6468, -0.8477, -1.2282,  ...,  0.3305, -0.8200,  0.3509],\n",
       "          [-0.3041,  0.7479, -0.6743,  ...,  0.0567, -0.1415,  1.4182],\n",
       "          [ 1.3193, -0.6468, -0.8946,  ..., -0.5135, -1.7076,  0.2220]],\n",
       "\n",
       "         [[ 0.8353,  0.6537,  0.1757,  ...,  0.4371,  1.4454,  0.7686],\n",
       "          [-0.6580, -1.6033,  0.2858,  ..., -0.7471, -1.1222, -1.0529],\n",
       "          [-1.0452, -0.9772,  1.7483,  ...,  1.0217, -2.0694, -0.7274],\n",
       "          ...,\n",
       "          [-1.2381,  0.7212,  0.4865,  ...,  0.3680, -1.8041, -0.5644],\n",
       "          [ 0.5370,  0.4268, -0.9391,  ...,  0.2295,  0.2370, -0.5673],\n",
       "          [-0.0932,  0.5672, -0.1584,  ..., -1.3609, -0.4106, -0.2179]],\n",
       "\n",
       "         [[ 1.2887, -0.0656, -0.3813,  ...,  0.7311,  0.7219, -0.6454],\n",
       "          [ 0.1775,  1.6074, -1.1502,  ..., -1.3754,  0.6895, -0.0952],\n",
       "          [ 1.7413, -0.1390, -2.1279,  ..., -1.9618,  0.2722, -0.0130],\n",
       "          ...,\n",
       "          [-0.0366, -1.0612,  0.1466,  ...,  1.1718,  0.9906,  0.0742],\n",
       "          [-0.1476, -1.0470,  0.7711,  ..., -0.5586,  0.5829,  0.3282],\n",
       "          [-1.5129,  1.2070, -0.9778,  ...,  0.0117, -0.8235,  0.7369]],\n",
       "\n",
       "         [[ 1.3188,  0.0883, -1.7563,  ...,  0.0395, -1.1392,  2.0287],\n",
       "          [ 0.0673, -1.2857, -0.9885,  ..., -1.7316,  0.2239, -0.9148],\n",
       "          [ 0.1484, -0.5767, -0.2994,  ..., -0.2977,  1.4454,  1.3037],\n",
       "          ...,\n",
       "          [-0.3809, -0.1623, -0.0698,  ..., -0.0128,  1.5690,  0.4262],\n",
       "          [ 0.3518, -0.6974,  1.4723,  ...,  0.2609,  1.1210,  1.0977],\n",
       "          [ 0.7828, -0.2336,  1.1801,  ...,  0.1988, -0.4942,  0.5157]]]],\n",
       "       device='cuda:0', grad_fn=<ConvolutionBackward0>)"
      ]
     },
     "execution_count": 9,
     "metadata": {},
     "output_type": "execute_result"
    }
   ],
   "source": [
    "noise_pred"
   ]
  },
  {
   "cell_type": "code",
   "execution_count": 1,
   "metadata": {
    "ExecuteTime": {
     "end_time": "2024-02-12T16:00:58.014121900Z",
     "start_time": "2024-02-12T16:00:55.635468500Z"
    },
    "collapsed": false
   },
   "outputs": [
    {
     "name": "stderr",
     "output_type": "stream",
     "text": [
      "D:\\Apps\\Miniconda\\envs\\MLpy39\\lib\\site-packages\\tqdm\\auto.py:21: TqdmWarning: IProgress not found. Please update jupyter and ipywidgets. See https://ipywidgets.readthedocs.io/en/stable/user_install.html\n",
      "  from .autonotebook import tqdm as notebook_tqdm\n",
      "D:\\Apps\\Miniconda\\envs\\MLpy39\\lib\\site-packages\\transformers\\utils\\generic.py:441: UserWarning: torch.utils._pytree._register_pytree_node is deprecated. Please use torch.utils._pytree.register_pytree_node instead.\n",
      "  _torch_pytree._register_pytree_node(\n"
     ]
    }
   ],
   "source": [
    "import torch\n",
    "import torchvision.transforms as transforms"
   ]
  },
  {
   "cell_type": "code",
   "execution_count": null,
   "metadata": {
    "collapsed": false
   },
   "outputs": [],
   "source": [
    "transforms.CenterCrop(144)()"
   ]
  },
  {
   "cell_type": "code",
   "execution_count": 1,
   "metadata": {
    "ExecuteTime": {
     "end_time": "2024-02-14T14:56:04.141149300Z",
     "start_time": "2024-02-14T14:56:04.127464700Z"
    },
    "collapsed": false
   },
   "outputs": [],
   "source": [
    "class Dict2Class(object):\n",
    "    def __init__(self, my_dict):\n",
    "        for key in my_dict:\n",
    "            setattr(self, key, my_dict[key])"
   ]
  },
  {
   "cell_type": "code",
   "execution_count": 5,
   "metadata": {
    "ExecuteTime": {
     "end_time": "2024-02-14T14:57:08.844317800Z",
     "start_time": "2024-02-14T14:57:08.726242400Z"
    },
    "collapsed": false
   },
   "outputs": [],
   "source": [
    "from data.mvds import MVDataset\n",
    "from transformers import  CLIPImageProcessor\n",
    "import yaml\n",
    "config_path = 'configs/train_config.yml'\n",
    "wonder_id='C:/Users/Xiang/.cache/huggingface/hub/models--flamehaze1115--wonder3d-v1.0/snapshots/d6d2efc033a06a74d3761268de7295c97e6935d2'\n",
    "feature_extractor = CLIPImageProcessor.from_pretrained(wonder_id,subfolder='feature_extractor')\n",
    "with open(config_path,'r') as file:\n",
    "    cfg = yaml.safe_load(file)\n",
    "# cfg = yaml.safe_load(args.config_path)\n",
    "cfg.update({'config_path': config_path})\n",
    "args = Dict2Class(cfg)\n",
    "dataset = MVDataset(args,feature_extractor)"
   ]
  },
  {
   "cell_type": "code",
   "execution_count": 12,
   "metadata": {
    "ExecuteTime": {
     "end_time": "2024-02-14T14:58:42.244988700Z",
     "start_time": "2024-02-14T14:58:42.227238400Z"
    },
    "collapsed": false
   },
   "outputs": [
    {
     "data": {
      "text/plain": [
       "['image_cond',\n",
       " 'image_target',\n",
       " 'image_cond_vae',\n",
       " 'image_cond_CLIP',\n",
       " 'image_target_vae',\n",
       " 'camera_embed']"
      ]
     },
     "execution_count": 12,
     "metadata": {},
     "output_type": "execute_result"
    }
   ],
   "source": [
    "list(dataset[0].keys())"
   ]
  },
  {
   "cell_type": "code",
   "execution_count": 17,
   "metadata": {
    "ExecuteTime": {
     "end_time": "2024-02-14T15:03:42.452563Z",
     "start_time": "2024-02-14T15:03:42.427742300Z"
    },
    "collapsed": false
   },
   "outputs": [
    {
     "data": {
      "text/plain": [
       "torch.Size([3, 256, 256])"
      ]
     },
     "execution_count": 17,
     "metadata": {},
     "output_type": "execute_result"
    }
   ],
   "source": [
    "dataset[0]['image_cond_vae'].shape"
   ]
  },
  {
   "cell_type": "markdown",
   "metadata": {},
   "source": []
  },
  {
   "cell_type": "markdown",
   "metadata": {},
   "source": []
  },
  {
   "cell_type": "code",
   "execution_count": 1,
   "metadata": {},
   "outputs": [
    {
     "name": "stderr",
     "output_type": "stream",
     "text": [
      "/pfs/mt-1oY5F7/luoyihao/anaconda3/envs/GNN3D/lib/python3.9/site-packages/tqdm/auto.py:21: TqdmWarning: IProgress not found. Please update jupyter and ipywidgets. See https://ipywidgets.readthedocs.io/en/stable/user_install.html\n",
      "  from .autonotebook import tqdm as notebook_tqdm\n",
      "/pfs/mt-1oY5F7/luoyihao/anaconda3/envs/GNN3D/lib/python3.9/site-packages/diffusers/utils/outputs.py:63: UserWarning: torch.utils._pytree._register_pytree_node is deprecated. Please use torch.utils._pytree.register_pytree_node instead.\n",
      "  torch.utils._pytree._register_pytree_node(\n",
      "/pfs/mt-1oY5F7/luoyihao/anaconda3/envs/GNN3D/lib/python3.9/site-packages/diffusers/models/dual_transformer_2d.py:20: FutureWarning: `DualTransformer2DModel` is deprecated and will be removed in version 0.29. Importing `DualTransformer2DModel` from `diffusers.models.dual_transformer_2d` is deprecated and this will be removed in a future version. Please use `from diffusers.models.transformers.dual_transformer_2d import DualTransformer2DModel`, instead.\n",
      "  deprecate(\"DualTransformer2DModel\", \"0.29\", deprecation_message)\n"
     ]
    }
   ],
   "source": [
    "from mvdiffusion.pipelines.pipeline_mvdiffusion_image import MVDiffusionImagePipeline\n",
    "from mvdiffusion.models.unet_mv2d_condition import UNetMV2DConditionModel\n",
    "from diffusers import AutoencoderKL, DDIMScheduler\n",
    "from transformers import CLIPVisionModelWithProjection, CLIPImageProcessor, AutoConfig"
   ]
  },
  {
   "cell_type": "code",
   "execution_count": 2,
   "metadata": {},
   "outputs": [
    {
     "name": "stderr",
     "output_type": "stream",
     "text": [
      "The config attributes {'cross_domain_attention': False, 'joint_attention': False, 'joint_attention_twice': True} were passed to UNetMV2DConditionModel, but are not expected and will be ignored. Please verify your config.json configuration file.\n"
     ]
    }
   ],
   "source": [
    "model_path = '/pfs/mt-1oY5F7/luoyihao/project/GNN3D/weights/wonder3d'\n",
    "\n",
    "vae=AutoencoderKL.from_pretrained(model_path, subfolder='vae')\n",
    "image_encoder = CLIPVisionModelWithProjection.from_pretrained(model_path, subfolder = 'image_encoder')\n",
    "feature_extractor = CLIPImageProcessor.from_pretrained(model_path, subfolder = 'feature_extractor')\n",
    "unet = UNetMV2DConditionModel.from_pretrained(model_path, subfolder = 'unet', num_views=2)\n",
    "scheduler = DDIMScheduler.from_pretrained(model_path, subfolder = 'scheduler')\n",
    "pipeline = MVDiffusionImagePipeline(vae=vae,image_encoder = image_encoder,unet=unet,scheduler=scheduler,safety_checker=None,\n",
    "                                    feature_extractor=feature_extractor,requires_safety_checker=False,num_views=2)"
   ]
  },
  {
   "cell_type": "code",
   "execution_count": 8,
   "metadata": {},
   "outputs": [
    {
     "name": "stderr",
     "output_type": "stream",
     "text": [
      "The config attributes {'cross_domain_attention': False, 'joint_attention': False, 'joint_attention_twice': True} were passed to UNetMV2DConditionModel, but are not expected and will be ignored. Please verify your config.json configuration file.\n"
     ]
    }
   ],
   "source": [
    "import json\n",
    "with open('/pfs/mt-1oY5F7/luoyihao/project/GNN3D/configs/unet_config.json', 'r') as file:\n",
    "    config = json.load(file)\n",
    "\n",
    "unet = UNetMV2DConditionModel.from_pretrained('/pfs/mt-1oY5F7/luoyihao/project/GNN3D/weights/wonder3d', subfolder = 'unet', num_views = 2,low_cpu_mem_usage=False,ignore_mismatched_sizes = True, **config)"
   ]
  },
  {
   "cell_type": "code",
   "execution_count": 9,
   "metadata": {},
   "outputs": [],
   "source": [
    "pipeline = MVDiffusionImagePipeline(vae=vae,image_encoder = image_encoder,unet=unet,scheduler=scheduler,safety_checker=None,\n",
    "                                    feature_extractor=feature_extractor,requires_safety_checker=False,num_views=2)"
   ]
  },
  {
   "cell_type": "code",
   "execution_count": 10,
   "metadata": {},
   "outputs": [],
   "source": [
    "pipeline.unet.enable_xformers_memory_efficient_attention()\n",
    "pipeline = pipeline.to('cuda')\n"
   ]
  },
  {
   "cell_type": "code",
   "execution_count": 11,
   "metadata": {},
   "outputs": [
    {
     "name": "stderr",
     "output_type": "stream",
     "text": [
      "100%|██████████| 20/20 [00:01<00:00, 11.22it/s]\n"
     ]
    }
   ],
   "source": [
    "import os\n",
    "from PIL import Image\n",
    "\n",
    "imagepath = '/pfs/mt-1oY5F7/luoyihao/project/GNN3D/validation_debug'\n",
    "\n",
    "def read_images_in_folder(folder_path):\n",
    "    images = []\n",
    "    for filename in os.listdir(folder_path):\n",
    "        if filename.endswith(('.jpg', '.jpeg', '.png', '.bmp')):  # Check for image file extensions\n",
    "            image_path = os.path.join(folder_path, filename)\n",
    "            image = Image.open(image_path).convert(\"RGB\")\n",
    "            images.append(image)\n",
    "    return images\n",
    "\n",
    "images = read_images_in_folder(imagepath)\n",
    "out = pipeline(images[1], num_inference_steps=20, output_type='pt', guidance_scale=1, height=320, width=320).images\n"
   ]
  },
  {
   "cell_type": "code",
   "execution_count": 29,
   "metadata": {},
   "outputs": [
    {
     "data": {
      "text/plain": [
       "(320, 320)"
      ]
     },
     "execution_count": 29,
     "metadata": {},
     "output_type": "execute_result"
    }
   ],
   "source": [
    "images[0].size"
   ]
  },
  {
   "cell_type": "code",
   "execution_count": 12,
   "metadata": {},
   "outputs": [],
   "source": [
    "from torchvision.utils import make_grid, save_image\n",
    "result = make_grid(out.cpu(), nrow = 6,padding=0,value_range=(0,1))"
   ]
  },
  {
   "cell_type": "code",
   "execution_count": 13,
   "metadata": {},
   "outputs": [],
   "source": [
    "save_image(result, 'result5.png')"
   ]
  },
  {
   "cell_type": "code",
   "execution_count": 12,
   "metadata": {},
   "outputs": [
    {
     "name": "stdout",
     "output_type": "stream",
     "text": [
      "[0, 1, 2, 0, 1, 2, 3]\n"
     ]
    },
    {
     "data": {
      "text/plain": [
       "torch.Size([7, 10])"
      ]
     },
     "execution_count": 12,
     "metadata": {},
     "output_type": "execute_result"
    }
   ],
   "source": [
    "list1 = [i for i in range(3)]\n",
    "list2 = [i for i in range(4)]\n",
    "\n",
    "list1.extend(list2)\n",
    "print(list1)\n",
    "\n",
    "import torch\n",
    "array = torch.randn(size = (12,10))\n",
    "array[list1].shape"
   ]
  },
  {
   "cell_type": "code",
   "execution_count": 3,
   "metadata": {},
   "outputs": [],
   "source": [
    "import yaml\n",
    "class Dict2Class(object):\n",
    "    def __init__(self, my_dict):\n",
    "        for key in my_dict:\n",
    "            setattr(self, key, my_dict[key])\n",
    "\n",
    "with open('/pfs/mt-1oY5F7/luoyihao/project/GNN3D/configs/train_config.yml','r') as file:\n",
    "    cfg = yaml.safe_load(file)\n",
    "# cfg = yaml.safe_load(args.config_path)\n",
    "# cfg.update({'config_path': args.config_path})\n",
    "args = Dict2Class(cfg)"
   ]
  },
  {
   "cell_type": "code",
   "execution_count": 4,
   "metadata": {},
   "outputs": [],
   "source": [
    "from data.mvds import MVDataset\n",
    "from torch.utils.data import DataLoader\n",
    "\n",
    "test_datasets = MVDataset(args, feature_extractor)\n",
    "dataloader = DataLoader(test_datasets, batch_size=2)"
   ]
  },
  {
   "cell_type": "code",
   "execution_count": 5,
   "metadata": {},
   "outputs": [
    {
     "data": {
      "text/plain": [
       "{'image_cond': tensor([[[[107, 151, 188,  ..., 143,  12,  35],\n",
       "           [ 91, 138,  24,  ..., 117, 132,  19],\n",
       "           [218, 203, 235,  ...,  23, 119, 231],\n",
       "           ...,\n",
       "           [ 92, 125, 150,  ...,  24,  48,  40],\n",
       "           [138, 200, 175,  ..., 162,  97, 143],\n",
       "           [ 28,  20,  58,  ..., 185, 116,  93]],\n",
       " \n",
       "          [[250,  53, 197,  ..., 126,  83,  61],\n",
       "           [187,  44, 127,  ..., 230, 135,  16],\n",
       "           [154,  43, 204,  ..., 171, 117, 137],\n",
       "           ...,\n",
       "           [204, 169, 204,  ..., 205, 111, 173],\n",
       "           [173,  82,  80,  ..., 131,   1,  92],\n",
       "           [200,  98,  33,  ..., 180, 252, 218]],\n",
       " \n",
       "          [[192, 227, 243,  ...,  74,  52, 113],\n",
       "           [142, 135, 130,  ..., 221, 174, 161],\n",
       "           [ 84, 222, 129,  ..., 194, 117,  55],\n",
       "           ...,\n",
       "           [208,  64, 147,  ...,  50,  38,  92],\n",
       "           [227, 154,   4,  ..., 131,  94, 134],\n",
       "           [ 88, 132, 217,  ...,  89,  27,  70]]],\n",
       " \n",
       " \n",
       "         [[[208, 165, 139,  ...,  89, 237, 191],\n",
       "           [111,  10, 170,  ..., 140, 136, 196],\n",
       "           [239, 150, 183,  ...,   2, 105,  39],\n",
       "           ...,\n",
       "           [  7,  13,  69,  ...,  24, 168, 194],\n",
       "           [140, 197,  22,  ...,  50,  27, 213],\n",
       "           [145, 100, 154,  ...,  48, 109, 191]],\n",
       " \n",
       "          [[ 61, 178, 161,  ...,  22,  84,  22],\n",
       "           [195,  50, 220,  ..., 126,  83, 233],\n",
       "           [102, 129,  41,  ...,  20,  88, 226],\n",
       "           ...,\n",
       "           [134, 231,  40,  ..., 196, 170, 126],\n",
       "           [180, 134, 215,  ...,  62, 146,  88],\n",
       "           [185, 206, 249,  ...,  93,  60, 114]],\n",
       " \n",
       "          [[205, 107,  98,  ...,  26,  66,   0],\n",
       "           [ 76,  41,  10,  ...,   5, 110, 138],\n",
       "           [ 54, 141,  44,  ..., 178, 108, 183],\n",
       "           ...,\n",
       "           [188, 210, 244,  ...,   9,  49, 192],\n",
       "           [228,  96,  64,  ...,  12, 177,  98],\n",
       "           [185, 204, 126,  ...,  16,  90, 143]]]], dtype=torch.uint8),\n",
       " 'image_target': tensor([[[[[234, 176, 235,  ..., 242, 211, 232],\n",
       "            [119, 205, 175,  ..., 224, 180,  29],\n",
       "            [ 20,   0, 124,  ..., 254, 173, 113],\n",
       "            ...,\n",
       "            [183, 128,  52,  ..., 143, 194, 190],\n",
       "            [106,  17,  16,  ..., 150,   7,   5],\n",
       "            [140,  88,  49,  ..., 200, 214, 158]],\n",
       " \n",
       "           [[243, 211,  47,  ..., 222, 187, 250],\n",
       "            [  3,  84,  57,  ..., 191, 232, 116],\n",
       "            [ 47, 176,  16,  ...,  45, 223, 221],\n",
       "            ...,\n",
       "            [245,  57,  81,  ...,  56,  62, 165],\n",
       "            [228,  67,  73,  ..., 228, 139, 161],\n",
       "            [ 76, 150, 197,  ...,  51,   0, 107]],\n",
       " \n",
       "           [[215, 105,  81,  ..., 157,  24,  21],\n",
       "            [204, 206, 173,  ..., 125,  47,  42],\n",
       "            [171, 192, 104,  ..., 232, 196,  97],\n",
       "            ...,\n",
       "            [ 52,  31, 180,  ..., 109,  64, 111],\n",
       "            [146, 229,   6,  ..., 102,  31, 124],\n",
       "            [249, 153, 110,  ...,   4, 205, 192]]],\n",
       " \n",
       " \n",
       "          [[[249,  87,  42,  ..., 253,  39, 132],\n",
       "            [253, 202,  19,  ..., 122, 100,  74],\n",
       "            [202, 235,  31,  ..., 216, 215,  45],\n",
       "            ...,\n",
       "            [ 66, 174, 133,  ..., 108, 251, 228],\n",
       "            [ 63,  78, 131,  ..., 126,  50, 195],\n",
       "            [ 64,  16,  82,  ...,  83, 222, 219]],\n",
       " \n",
       "           [[222, 200, 100,  ..., 191,  47, 252],\n",
       "            [ 67,  68, 166,  ...,  61, 120, 119],\n",
       "            [ 48, 230,  70,  ..., 251, 217,  41],\n",
       "            ...,\n",
       "            [ 20,  85,  44,  ..., 247, 178, 134],\n",
       "            [219,  85, 113,  ..., 241, 182, 144],\n",
       "            [253, 102,  54,  ..., 161, 158,  66]],\n",
       " \n",
       "           [[  3, 154, 144,  ..., 236, 172, 210],\n",
       "            [122, 111,   8,  ..., 180,  81,  88],\n",
       "            [232, 184, 200,  ..., 109,  20, 170],\n",
       "            ...,\n",
       "            [104, 145, 171,  ..., 197,  92, 128],\n",
       "            [115,  61, 213,  ..., 133,   3, 153],\n",
       "            [  5, 205,  78,  ..., 147,   1, 170]]]],\n",
       " \n",
       " \n",
       " \n",
       "         [[[[ 50, 243,  70,  ...,  53, 200, 201],\n",
       "            [ 87,  67,  62,  ..., 220, 177, 181],\n",
       "            [ 88,  15, 171,  ..., 143,  26,  99],\n",
       "            ...,\n",
       "            [ 59, 178,   4,  ...,  87, 125,  68],\n",
       "            [216,   5,  89,  ..., 174, 159, 117],\n",
       "            [208, 140, 202,  ..., 124,   3,  50]],\n",
       " \n",
       "           [[235,   4, 156,  ..., 223,  92, 229],\n",
       "            [243, 211, 201,  ..., 102, 128, 226],\n",
       "            [243,  37, 223,  ...,   3, 183, 221],\n",
       "            ...,\n",
       "            [127, 102,  61,  ...,  22, 242, 254],\n",
       "            [210, 234,  33,  ..., 159,  80, 148],\n",
       "            [193, 111, 176,  ..., 191, 218,  38]],\n",
       " \n",
       "           [[111,  75, 111,  ..., 142, 189,   7],\n",
       "            [ 41,  78,  39,  ..., 210,  75, 157],\n",
       "            [165, 141, 164,  ..., 240, 217, 249],\n",
       "            ...,\n",
       "            [228, 254, 242,  ..., 104,  74,  96],\n",
       "            [ 62, 242, 202,  ...,  27, 124, 249],\n",
       "            [107, 129, 195,  ...,   8, 138, 115]]],\n",
       " \n",
       " \n",
       "          [[[ 67,   7, 174,  ..., 245, 254, 248],\n",
       "            [123,  98,   0,  ...,  72, 138,  74],\n",
       "            [ 87,  54, 236,  ...,  53,  73,  52],\n",
       "            ...,\n",
       "            [ 61, 204,  20,  ..., 215,  44, 216],\n",
       "            [ 87, 171, 205,  ..., 121, 240, 118],\n",
       "            [187, 131, 184,  ..., 155,  98, 172]],\n",
       " \n",
       "           [[  1, 103, 107,  ...,  14, 115, 174],\n",
       "            [ 19, 189, 104,  ...,   2, 145, 214],\n",
       "            [ 19, 189, 102,  ..., 153,  22, 232],\n",
       "            ...,\n",
       "            [116,  46, 139,  ..., 226,   6, 129],\n",
       "            [182, 250, 153,  ...,  70,  21, 197],\n",
       "            [ 43,  44,  88,  ..., 188, 147, 114]],\n",
       " \n",
       "           [[188,  74,  94,  ...,  86, 196, 197],\n",
       "            [233, 134, 179,  ...,  54, 232,  36],\n",
       "            [223, 227,  51,  ..., 249,  66,  19],\n",
       "            ...,\n",
       "            [ 94, 219,   7,  ...,  23, 149,  10],\n",
       "            [ 54,  30,  80,  ...,  97,  75, 232],\n",
       "            [ 64, 111, 191,  ..., 162, 241, 164]]]]], dtype=torch.uint8),\n",
       " 'normal_target': tensor([[[[[113, 211, 218,  ...,  38, 116, 171],\n",
       "            [ 65, 106, 104,  ..., 129, 227,  22],\n",
       "            [188,  71, 172,  ..., 241, 110, 234],\n",
       "            ...,\n",
       "            [123, 171,   4,  ...,   6,  27, 222],\n",
       "            [215, 247,  97,  ..., 208,  79,  98],\n",
       "            [ 79, 196,  65,  ...,  58, 222, 130]],\n",
       " \n",
       "           [[ 40, 243, 238,  ...,  16,  61, 220],\n",
       "            [ 97, 197, 115,  ..., 153, 213,  44],\n",
       "            [219, 235, 121,  ..., 156,  26, 187],\n",
       "            ...,\n",
       "            [ 50, 139,  50,  ..., 177, 248, 139],\n",
       "            [ 99, 216, 227,  ..., 155,  33, 133],\n",
       "            [207,  88, 104,  ...,  91,  29,   9]],\n",
       " \n",
       "           [[ 43, 151, 107,  ...,  88, 122,  25],\n",
       "            [149, 250,  93,  ...,  43, 112,  91],\n",
       "            [ 27,  72,  16,  ..., 108, 100, 154],\n",
       "            ...,\n",
       "            [ 99, 171,  65,  ..., 231,  49, 241],\n",
       "            [ 48,  39, 152,  ..., 224, 133, 181],\n",
       "            [ 35,  12, 140,  ..., 195, 248,  47]]],\n",
       " \n",
       " \n",
       "          [[[ 19,  60,  63,  ...,  67, 211, 169],\n",
       "            [199, 180,  17,  ..., 250,  49, 146],\n",
       "            [192, 103, 121,  ...,  97, 135, 198],\n",
       "            ...,\n",
       "            [241, 134,  70,  ..., 162,  71, 149],\n",
       "            [ 33, 253,  40,  ..., 150,  84, 253],\n",
       "            [115,  46, 230,  ..., 206, 111, 120]],\n",
       " \n",
       "           [[132, 139,  95,  ..., 107, 212, 154],\n",
       "            [ 82, 169, 115,  ..., 240, 196, 161],\n",
       "            [162,   3, 235,  ..., 252,  23, 183],\n",
       "            ...,\n",
       "            [193, 175, 136,  ...,  12,  13, 198],\n",
       "            [ 69,   3, 169,  ...,  23, 143, 214],\n",
       "            [194, 135,  48,  ...,  36, 105, 186]],\n",
       " \n",
       "           [[142, 237,  80,  ..., 181, 117, 161],\n",
       "            [125, 141,  74,  ...,   8, 211,  76],\n",
       "            [222, 106, 179,  ..., 188,  42, 153],\n",
       "            ...,\n",
       "            [ 46,  40, 141,  ..., 120, 144, 231],\n",
       "            [ 36, 217, 212,  ...,  15, 159, 137],\n",
       "            [ 11, 213, 220,  ..., 147, 170, 138]]]],\n",
       " \n",
       " \n",
       " \n",
       "         [[[[235, 166, 191,  ...,  37, 237, 200],\n",
       "            [ 41, 190, 153,  ..., 218, 153, 123],\n",
       "            [248, 123, 165,  ..., 147,  19, 248],\n",
       "            ...,\n",
       "            [108, 168, 213,  ..., 247,  92,  53],\n",
       "            [ 53, 210, 157,  ...,  92,  84, 162],\n",
       "            [ 81,  63, 226,  ..., 166, 161,  98]],\n",
       " \n",
       "           [[ 25, 172,  98,  ..., 197, 182,   5],\n",
       "            [110, 185,  60,  ..., 232,  35,  58],\n",
       "            [120,  41,  45,  ..., 195, 139, 176],\n",
       "            ...,\n",
       "            [188, 124, 141,  ..., 105, 140,  20],\n",
       "            [ 52,   9,  69,  ..., 178, 227,  84],\n",
       "            [208, 213,  68,  ...,  20,   3, 142]],\n",
       " \n",
       "           [[  9,  59, 174,  ..., 142, 109, 234],\n",
       "            [ 77,  23, 206,  ..., 100,  34, 196],\n",
       "            [211, 171,  60,  ..., 236,  54,  41],\n",
       "            ...,\n",
       "            [168, 149, 196,  ..., 153, 125, 169],\n",
       "            [ 69, 101,  47,  ...,   5,  24, 251],\n",
       "            [214, 248, 243,  ..., 238,  60, 179]]],\n",
       " \n",
       " \n",
       "          [[[139,  87, 105,  ..., 191,  13,  39],\n",
       "            [185, 244, 253,  ...,  89,  29, 186],\n",
       "            [ 20, 232,  74,  ...,  35, 227,   0],\n",
       "            ...,\n",
       "            [ 18,  30, 110,  ..., 100, 127,  25],\n",
       "            [229,  14,  84,  ...,  49, 183,  82],\n",
       "            [ 54, 137,  92,  ...,  72,  12,   8]],\n",
       " \n",
       "           [[116, 174,  93,  ..., 142,  74, 164],\n",
       "            [101, 239,  81,  ...,  74, 153,  95],\n",
       "            [ 43, 107,  53,  ...,   7,  27,   0],\n",
       "            ...,\n",
       "            [  5,  52, 199,  ..., 252, 101,  74],\n",
       "            [207,  30, 249,  ..., 251, 251,   8],\n",
       "            [  1, 233, 102,  ..., 137, 168, 109]],\n",
       " \n",
       "           [[ 92, 224, 170,  ...,  88, 166, 121],\n",
       "            [ 36, 219, 165,  ...,  53, 208, 251],\n",
       "            [ 26,  79,   1,  ..., 145, 252,  22],\n",
       "            ...,\n",
       "            [ 88, 138,  31,  ..., 233,  42, 235],\n",
       "            [  7,  48, 237,  ..., 156, 186, 173],\n",
       "            [210, 226,  52,  ..., 102, 161,  93]]]]], dtype=torch.uint8),\n",
       " 'image_cond_vae': tensor([[[[-0.1608,  0.1843,  0.4745,  ...,  0.1216, -0.9059, -0.7255],\n",
       "           [-0.2863,  0.0824, -0.8118,  ..., -0.0824,  0.0353, -0.8510],\n",
       "           [ 0.7098,  0.5922,  0.8431,  ..., -0.8196, -0.0667,  0.8118],\n",
       "           ...,\n",
       "           [-0.2784, -0.0196,  0.1765,  ..., -0.8118, -0.6235, -0.6863],\n",
       "           [ 0.0824,  0.5686,  0.3725,  ...,  0.2706, -0.2392,  0.1216],\n",
       "           [-0.7804, -0.8431, -0.5451,  ...,  0.4510, -0.0902, -0.2706]],\n",
       " \n",
       "          [[ 0.9608, -0.5843,  0.5451,  ..., -0.0118, -0.3490, -0.5216],\n",
       "           [ 0.4667, -0.6549, -0.0039,  ...,  0.8039,  0.0588, -0.8745],\n",
       "           [ 0.2078, -0.6627,  0.6000,  ...,  0.3412, -0.0824,  0.0745],\n",
       "           ...,\n",
       "           [ 0.6000,  0.3255,  0.6000,  ...,  0.6078, -0.1294,  0.3569],\n",
       "           [ 0.3569, -0.3569, -0.3725,  ...,  0.0275, -0.9922, -0.2784],\n",
       "           [ 0.5686, -0.2314, -0.7412,  ...,  0.4118,  0.9765,  0.7098]],\n",
       " \n",
       "          [[ 0.5059,  0.7804,  0.9059,  ..., -0.4196, -0.5922, -0.1137],\n",
       "           [ 0.1137,  0.0588,  0.0196,  ...,  0.7333,  0.3647,  0.2627],\n",
       "           [-0.3412,  0.7412,  0.0118,  ...,  0.5216, -0.0824, -0.5686],\n",
       "           ...,\n",
       "           [ 0.6314, -0.4980,  0.1529,  ..., -0.6078, -0.7020, -0.2784],\n",
       "           [ 0.7804,  0.2078, -0.9686,  ...,  0.0275, -0.2627,  0.0510],\n",
       "           [-0.3098,  0.0353,  0.7020,  ..., -0.3020, -0.7882, -0.4510]]],\n",
       " \n",
       " \n",
       "         [[[ 0.6314,  0.2941,  0.0902,  ..., -0.3020,  0.8588,  0.4980],\n",
       "           [-0.1294, -0.9216,  0.3333,  ...,  0.0980,  0.0667,  0.5373],\n",
       "           [ 0.8745,  0.1765,  0.4353,  ..., -0.9843, -0.1765, -0.6941],\n",
       "           ...,\n",
       "           [-0.9451, -0.8980, -0.4588,  ..., -0.8118,  0.3176,  0.5216],\n",
       "           [ 0.0980,  0.5451, -0.8275,  ..., -0.6078, -0.7882,  0.6706],\n",
       "           [ 0.1373, -0.2157,  0.2078,  ..., -0.6235, -0.1451,  0.4980]],\n",
       " \n",
       "          [[-0.5216,  0.3961,  0.2627,  ..., -0.8275, -0.3412, -0.8275],\n",
       "           [ 0.5294, -0.6078,  0.7255,  ..., -0.0118, -0.3490,  0.8275],\n",
       "           [-0.2000,  0.0118, -0.6784,  ..., -0.8431, -0.3098,  0.7725],\n",
       "           ...,\n",
       "           [ 0.0510,  0.8118, -0.6863,  ...,  0.5373,  0.3333, -0.0118],\n",
       "           [ 0.4118,  0.0510,  0.6863,  ..., -0.5137,  0.1451, -0.3098],\n",
       "           [ 0.4510,  0.6157,  0.9529,  ..., -0.2706, -0.5294, -0.1059]],\n",
       " \n",
       "          [[ 0.6078, -0.1608, -0.2314,  ..., -0.7961, -0.4824, -1.0000],\n",
       "           [-0.4039, -0.6784, -0.9216,  ..., -0.9608, -0.1373,  0.0824],\n",
       "           [-0.5765,  0.1059, -0.6549,  ...,  0.3961, -0.1529,  0.4353],\n",
       "           ...,\n",
       "           [ 0.4745,  0.6471,  0.9137,  ..., -0.9294, -0.6157,  0.5059],\n",
       "           [ 0.7882, -0.2471, -0.4980,  ..., -0.9059,  0.3882, -0.2314],\n",
       "           [ 0.4510,  0.6000, -0.0118,  ..., -0.8745, -0.2941,  0.1216]]]]),\n",
       " 'image_cond_CLIP': tensor([[[[-0.2448,  0.4705,  0.4267,  ...,  0.7771, -1.0915, -1.4419],\n",
       "           [ 0.0325,  0.1639, -0.1134,  ..., -0.3178,  0.0325, -0.6244],\n",
       "           [ 1.5362,  0.7041,  0.9230,  ..., -0.4054, -0.8434,  0.8647],\n",
       "           ...,\n",
       "           [-0.7996,  0.2661,  0.3391,  ...,  0.1931, -0.1572, -0.2156],\n",
       "           [ 0.2369,  0.9376,  0.5289,  ...,  0.5581, -0.5952, -0.2156],\n",
       "           [-1.2083, -1.1645, -0.1718,  ...,  1.1274,  0.1201, -0.3178]],\n",
       " \n",
       "          [[ 1.5346, -0.4764,  0.2890,  ...,  0.3490, -0.2363, -0.9267],\n",
       "           [ 0.5891, -0.8967,  0.7392,  ...,  1.2795,  0.5891, -1.0767],\n",
       "           [ 0.9643, -0.1313,  0.9343,  ..., -0.1913,  0.2439,  0.7842],\n",
       "           ...,\n",
       "           [ 0.4841,  0.1689,  1.3395,  ...,  0.8442,  0.2740,  0.6942],\n",
       "           [ 0.8893, -0.1463, -0.1913,  ...,  0.4691, -1.0467, -0.3564],\n",
       "           [ 1.0544, -0.6715, -0.4764,  ...,  0.4240,  1.4596,  1.3395]],\n",
       " \n",
       "          [[ 1.2216,  1.7193,  1.1221,  ...,  0.6528, -0.5701,  0.1551],\n",
       "           [ 0.3826,  0.6955,  0.6244,  ...,  1.2643,  1.0510,  0.4964],\n",
       "           [-0.1435,  0.6528, -0.4279,  ...,  0.7808,  0.8234, -0.6839],\n",
       "           ...,\n",
       "           [ 1.6055,  0.1409,  0.8377,  ...,  0.2120,  0.0129,  0.3684],\n",
       "           [ 1.6055, -0.0440, -0.6555,  ...,  0.3257, -0.3711,  0.1693],\n",
       "           [ 0.0271,  0.7239,  0.6670,  ...,  0.3115, -0.8261, -0.4706]]],\n",
       " \n",
       " \n",
       "         [[[ 0.9522,  0.2807,  0.4413,  ..., -0.2156,  1.0982,  1.1712],\n",
       "           [ 0.0617, -0.7996,  0.9376,  ...,  0.3683, -0.1718,  0.5289],\n",
       "           [ 1.0836,  0.2807,  0.5435,  ..., -0.6682,  0.1347, -1.3981],\n",
       "           ...,\n",
       "           [-1.5003, -1.0185, -0.6682,  ..., -0.7412,  0.4413,  0.9668],\n",
       "           [-0.0842, -0.0259, -0.8872,  ..., -1.1645, -1.0915,  1.0544],\n",
       "           [ 0.3099,  0.0471, -0.4200,  ..., -0.0842, -0.6974,  0.9084]],\n",
       " \n",
       "          [[-0.4464,  0.7542,  0.7842,  ..., -1.1068, -0.6565, -0.9867],\n",
       "           [ 0.7242, -0.4164,  1.0393,  ..., -0.1313, -0.4464,  1.5646],\n",
       "           [-0.5515, -0.4464,  0.6491,  ..., -1.0918, -1.1668,  1.1894],\n",
       "           ...,\n",
       "           [ 0.0638,  1.2495, -0.0112,  ...,  0.9193,  0.6191, -0.0712],\n",
       "           [ 0.8142,  0.6642,  0.2289,  ..., -0.3864,  0.3940, -0.1613],\n",
       "           [ 1.0243,  1.4746,  1.0393,  ...,  0.0789, -0.7466, -0.1763]],\n",
       " \n",
       "          [[ 1.1078, -0.1862, -0.1293,  ..., -0.6697, -0.6981, -1.1816],\n",
       "           [-0.5133, -0.8261, -0.6839,  ..., -0.7550, -0.1435,  0.7097],\n",
       "           [-0.6555, -0.1435,  0.6670,  ...,  0.6386,  0.3257,  0.3968],\n",
       "           ...,\n",
       "           [ 0.3542,  1.5771,  1.0794,  ..., -1.2385, -0.6839,  1.2643],\n",
       "           [ 1.6055,  0.1551,  0.1124,  ..., -0.1862,  0.0413,  0.2973],\n",
       "           [ 1.2643,  0.9799, -0.0724,  ..., -0.4422, -0.3995,  0.4253]]]]),\n",
       " 'image_target_vae': tensor([[[[ 0.8353,  0.3804,  0.8431,  ...,  0.8980,  0.6549,  0.8196],\n",
       "           [-0.0667,  0.6078,  0.3725,  ...,  0.7569,  0.4118, -0.7725],\n",
       "           [-0.8431, -1.0000, -0.0275,  ...,  0.9922,  0.3569, -0.1137],\n",
       "           ...,\n",
       "           [ 0.4353,  0.0039, -0.5922,  ...,  0.1216,  0.5216,  0.4902],\n",
       "           [-0.1686, -0.8667, -0.8745,  ...,  0.1765, -0.9451, -0.9608],\n",
       "           [ 0.0980, -0.3098, -0.6157,  ...,  0.5686,  0.6784,  0.2392]],\n",
       " \n",
       "          [[ 0.9059,  0.6549, -0.6314,  ...,  0.7412,  0.4667,  0.9608],\n",
       "           [-0.9765, -0.3412, -0.5529,  ...,  0.4980,  0.8196, -0.0902],\n",
       "           [-0.6314,  0.3804, -0.8745,  ..., -0.6471,  0.7490,  0.7333],\n",
       "           ...,\n",
       "           [ 0.9216, -0.5529, -0.3647,  ..., -0.5608, -0.5137,  0.2941],\n",
       "           [ 0.7882, -0.4745, -0.4275,  ...,  0.7882,  0.0902,  0.2627],\n",
       "           [-0.4039,  0.1765,  0.5451,  ..., -0.6000, -1.0000, -0.1608]],\n",
       " \n",
       "          [[ 0.6863, -0.1765, -0.3647,  ...,  0.2314, -0.8118, -0.8353],\n",
       "           [ 0.6000,  0.6157,  0.3569,  ..., -0.0196, -0.6314, -0.6706],\n",
       "           [ 0.3412,  0.5059, -0.1843,  ...,  0.8196,  0.5373, -0.2392],\n",
       "           ...,\n",
       "           [-0.5922, -0.7569,  0.4118,  ..., -0.1451, -0.4980, -0.1294],\n",
       "           [ 0.1451,  0.7961, -0.9529,  ..., -0.2000, -0.7569, -0.0275],\n",
       "           [ 0.9529,  0.2000, -0.1373,  ..., -0.9686,  0.6078,  0.5059]],\n",
       " \n",
       "          [[ 0.9529, -0.3176, -0.6706,  ...,  0.9843, -0.6941,  0.0353],\n",
       "           [ 0.9843,  0.5843, -0.8510,  ..., -0.0431, -0.2157, -0.4196],\n",
       "           [ 0.5843,  0.8431, -0.7569,  ...,  0.6941,  0.6863, -0.6471],\n",
       "           ...,\n",
       "           [-0.4824,  0.3647,  0.0431,  ..., -0.1529,  0.9686,  0.7882],\n",
       "           [-0.5059, -0.3882,  0.0275,  ..., -0.0118, -0.6078,  0.5294],\n",
       "           [-0.4980, -0.8745, -0.3569,  ..., -0.3490,  0.7412,  0.7176]],\n",
       " \n",
       "          [[ 0.7412,  0.5686, -0.2157,  ...,  0.4980, -0.6314,  0.9765],\n",
       "           [-0.4745, -0.4667,  0.3020,  ..., -0.5216, -0.0588, -0.0667],\n",
       "           [-0.6235,  0.8039, -0.4510,  ...,  0.9686,  0.7020, -0.6784],\n",
       "           ...,\n",
       "           [-0.8431, -0.3333, -0.6549,  ...,  0.9373,  0.3961,  0.0510],\n",
       "           [ 0.7176, -0.3333, -0.1137,  ...,  0.8902,  0.4275,  0.1294],\n",
       "           [ 0.9843, -0.2000, -0.5765,  ...,  0.2627,  0.2392, -0.4824]],\n",
       " \n",
       "          [[-0.9765,  0.2078,  0.1294,  ...,  0.8510,  0.3490,  0.6471],\n",
       "           [-0.0431, -0.1294, -0.9373,  ...,  0.4118, -0.3647, -0.3098],\n",
       "           [ 0.8196,  0.4431,  0.5686,  ..., -0.1451, -0.8431,  0.3333],\n",
       "           ...,\n",
       "           [-0.1843,  0.1373,  0.3412,  ...,  0.5451, -0.2784,  0.0039],\n",
       "           [-0.0980, -0.5216,  0.6706,  ...,  0.0431, -0.9765,  0.2000],\n",
       "           [-0.9608,  0.6078, -0.3882,  ...,  0.1529, -0.9922,  0.3333]]],\n",
       " \n",
       " \n",
       "         [[[-0.6078,  0.9059, -0.4510,  ..., -0.5843,  0.5686,  0.5765],\n",
       "           [-0.3176, -0.4745, -0.5137,  ...,  0.7255,  0.3882,  0.4196],\n",
       "           [-0.3098, -0.8824,  0.3412,  ...,  0.1216, -0.7961, -0.2235],\n",
       "           ...,\n",
       "           [-0.5373,  0.3961, -0.9686,  ..., -0.3176, -0.0196, -0.4667],\n",
       "           [ 0.6941, -0.9608, -0.3020,  ...,  0.3647,  0.2471, -0.0824],\n",
       "           [ 0.6314,  0.0980,  0.5843,  ..., -0.0275, -0.9765, -0.6078]],\n",
       " \n",
       "          [[ 0.8431, -0.9686,  0.2235,  ...,  0.7490, -0.2784,  0.7961],\n",
       "           [ 0.9059,  0.6549,  0.5765,  ..., -0.2000,  0.0039,  0.7725],\n",
       "           [ 0.9059, -0.7098,  0.7490,  ..., -0.9765,  0.4353,  0.7333],\n",
       "           ...,\n",
       "           [-0.0039, -0.2000, -0.5216,  ..., -0.8275,  0.8980,  0.9922],\n",
       "           [ 0.6471,  0.8353, -0.7412,  ...,  0.2471, -0.3725,  0.1608],\n",
       "           [ 0.5137, -0.1294,  0.3804,  ...,  0.4980,  0.7098, -0.7020]],\n",
       " \n",
       "          [[-0.1294, -0.4118, -0.1294,  ...,  0.1137,  0.4824, -0.9451],\n",
       "           [-0.6784, -0.3882, -0.6941,  ...,  0.6471, -0.4118,  0.2314],\n",
       "           [ 0.2941,  0.1059,  0.2863,  ...,  0.8824,  0.7020,  0.9529],\n",
       "           ...,\n",
       "           [ 0.7882,  0.9922,  0.8980,  ..., -0.1843, -0.4196, -0.2471],\n",
       "           [-0.5137,  0.8980,  0.5843,  ..., -0.7882, -0.0275,  0.9529],\n",
       "           [-0.1608,  0.0118,  0.5294,  ..., -0.9373,  0.0824, -0.0980]],\n",
       " \n",
       "          [[-0.4745, -0.9451,  0.3647,  ...,  0.9216,  0.9922,  0.9451],\n",
       "           [-0.0353, -0.2314, -1.0000,  ..., -0.4353,  0.0824, -0.4196],\n",
       "           [-0.3176, -0.5765,  0.8510,  ..., -0.5843, -0.4275, -0.5922],\n",
       "           ...,\n",
       "           [-0.5216,  0.6000, -0.8431,  ...,  0.6863, -0.6549,  0.6941],\n",
       "           [-0.3176,  0.3412,  0.6078,  ..., -0.0510,  0.8824, -0.0745],\n",
       "           [ 0.4667,  0.0275,  0.4431,  ...,  0.2157, -0.2314,  0.3490]],\n",
       " \n",
       "          [[-0.9922, -0.1922, -0.1608,  ..., -0.8902, -0.0980,  0.3647],\n",
       "           [-0.8510,  0.4824, -0.1843,  ..., -0.9843,  0.1373,  0.6784],\n",
       "           [-0.8510,  0.4824, -0.2000,  ...,  0.2000, -0.8275,  0.8196],\n",
       "           ...,\n",
       "           [-0.0902, -0.6392,  0.0902,  ...,  0.7725, -0.9529,  0.0118],\n",
       "           [ 0.4275,  0.9608,  0.2000,  ..., -0.4510, -0.8353,  0.5451],\n",
       "           [-0.6627, -0.6549, -0.3098,  ...,  0.4745,  0.1529, -0.1059]],\n",
       " \n",
       "          [[ 0.4745, -0.4196, -0.2627,  ..., -0.3255,  0.5373,  0.5451],\n",
       "           [ 0.8275,  0.0510,  0.4039,  ..., -0.5765,  0.8196, -0.7176],\n",
       "           [ 0.7490,  0.7804, -0.6000,  ...,  0.9529, -0.4824, -0.8510],\n",
       "           ...,\n",
       "           [-0.2627,  0.7176, -0.9451,  ..., -0.8196,  0.1686, -0.9216],\n",
       "           [-0.5765, -0.7647, -0.3725,  ..., -0.2392, -0.4118,  0.8196],\n",
       "           [-0.4980, -0.1294,  0.4980,  ...,  0.2706,  0.8902,  0.2863]]]]),\n",
       " 'normal_target_vae': tensor([[[[-0.1137,  0.6549,  0.7098,  ..., -0.7020, -0.0902,  0.3412],\n",
       "           [-0.4902, -0.1686, -0.1843,  ...,  0.0118,  0.7804, -0.8275],\n",
       "           [ 0.4745, -0.4431,  0.3490,  ...,  0.8902, -0.1373,  0.8353],\n",
       "           ...,\n",
       "           [-0.0353,  0.3412, -0.9686,  ..., -0.9529, -0.7882,  0.7412],\n",
       "           [ 0.6863,  0.9373, -0.2392,  ...,  0.6314, -0.3804, -0.2314],\n",
       "           [-0.3804,  0.5373, -0.4902,  ..., -0.5451,  0.7412,  0.0196]],\n",
       " \n",
       "          [[-0.6863,  0.9059,  0.8667,  ..., -0.8745, -0.5216,  0.7255],\n",
       "           [-0.2392,  0.5451, -0.0980,  ...,  0.2000,  0.6706, -0.6549],\n",
       "           [ 0.7176,  0.8431, -0.0510,  ...,  0.2235, -0.7961,  0.4667],\n",
       "           ...,\n",
       "           [-0.6078,  0.0902, -0.6078,  ...,  0.3882,  0.9451,  0.0902],\n",
       "           [-0.2235,  0.6941,  0.7804,  ...,  0.2157, -0.7412,  0.0431],\n",
       "           [ 0.6235, -0.3098, -0.1843,  ..., -0.2863, -0.7725, -0.9294]],\n",
       " \n",
       "          [[-0.6627,  0.1843, -0.1608,  ..., -0.3098, -0.0431, -0.8039],\n",
       "           [ 0.1686,  0.9608, -0.2706,  ..., -0.6627, -0.1216, -0.2863],\n",
       "           [-0.7882, -0.4353, -0.8745,  ..., -0.1529, -0.2157,  0.2078],\n",
       "           ...,\n",
       "           [-0.2235,  0.3412, -0.4902,  ...,  0.8118, -0.6157,  0.8902],\n",
       "           [-0.6235, -0.6941,  0.1922,  ...,  0.7569,  0.0431,  0.4196],\n",
       "           [-0.7255, -0.9059,  0.0980,  ...,  0.5294,  0.9451, -0.6314]],\n",
       " \n",
       "          [[-0.8510, -0.5294, -0.5059,  ..., -0.4745,  0.6549,  0.3255],\n",
       "           [ 0.5608,  0.4118, -0.8667,  ...,  0.9608, -0.6157,  0.1451],\n",
       "           [ 0.5059, -0.1922, -0.0510,  ..., -0.2392,  0.0588,  0.5529],\n",
       "           ...,\n",
       "           [ 0.8902,  0.0510, -0.4510,  ...,  0.2706, -0.4431,  0.1686],\n",
       "           [-0.7412,  0.9843, -0.6863,  ...,  0.1765, -0.3412,  0.9843],\n",
       "           [-0.0980, -0.6392,  0.8039,  ...,  0.6157, -0.1294, -0.0588]],\n",
       " \n",
       "          [[ 0.0353,  0.0902, -0.2549,  ..., -0.1608,  0.6627,  0.2078],\n",
       "           [-0.3569,  0.3255, -0.0980,  ...,  0.8824,  0.5373,  0.2627],\n",
       "           [ 0.2706, -0.9765,  0.8431,  ...,  0.9765, -0.8196,  0.4353],\n",
       "           ...,\n",
       "           [ 0.5137,  0.3725,  0.0667,  ..., -0.9059, -0.8980,  0.5529],\n",
       "           [-0.4588, -0.9765,  0.3255,  ..., -0.8196,  0.1216,  0.6784],\n",
       "           [ 0.5216,  0.0588, -0.6235,  ..., -0.7176, -0.1765,  0.4588]],\n",
       " \n",
       "          [[ 0.1137,  0.8588, -0.3725,  ...,  0.4196, -0.0824,  0.2627],\n",
       "           [-0.0196,  0.1059, -0.4196,  ..., -0.9373,  0.6549, -0.4039],\n",
       "           [ 0.7412, -0.1686,  0.4039,  ...,  0.4745, -0.6706,  0.2000],\n",
       "           ...,\n",
       "           [-0.6392, -0.6863,  0.1059,  ..., -0.0588,  0.1294,  0.8118],\n",
       "           [-0.7176,  0.7020,  0.6627,  ..., -0.8824,  0.2471,  0.0745],\n",
       "           [-0.9137,  0.6706,  0.7255,  ...,  0.1529,  0.3333,  0.0824]]],\n",
       " \n",
       " \n",
       "         [[[ 0.8431,  0.3020,  0.4980,  ..., -0.7098,  0.8588,  0.5686],\n",
       "           [-0.6784,  0.4902,  0.2000,  ...,  0.7098,  0.2000, -0.0353],\n",
       "           [ 0.9451, -0.0353,  0.2941,  ...,  0.1529, -0.8510,  0.9451],\n",
       "           ...,\n",
       "           [-0.1529,  0.3176,  0.6706,  ...,  0.9373, -0.2784, -0.5843],\n",
       "           [-0.5843,  0.6471,  0.2314,  ..., -0.2784, -0.3412,  0.2706],\n",
       "           [-0.3647, -0.5059,  0.7725,  ...,  0.3020,  0.2627, -0.2314]],\n",
       " \n",
       "          [[-0.8039,  0.3490, -0.2314,  ...,  0.5451,  0.4275, -0.9608],\n",
       "           [-0.1373,  0.4510, -0.5294,  ...,  0.8196, -0.7255, -0.5451],\n",
       "           [-0.0588, -0.6784, -0.6471,  ...,  0.5294,  0.0902,  0.3804],\n",
       "           ...,\n",
       "           [ 0.4745, -0.0275,  0.1059,  ..., -0.1765,  0.0980, -0.8431],\n",
       "           [-0.5922, -0.9294, -0.4588,  ...,  0.3961,  0.7804, -0.3412],\n",
       "           [ 0.6314,  0.6706, -0.4667,  ..., -0.8431, -0.9765,  0.1137]],\n",
       " \n",
       "          [[-0.9294, -0.5373,  0.3647,  ...,  0.1137, -0.1451,  0.8353],\n",
       "           [-0.3961, -0.8196,  0.6157,  ..., -0.2157, -0.7333,  0.5373],\n",
       "           [ 0.6549,  0.3412, -0.5294,  ...,  0.8510, -0.5765, -0.6784],\n",
       "           ...,\n",
       "           [ 0.3176,  0.1686,  0.5373,  ...,  0.2000, -0.0196,  0.3255],\n",
       "           [-0.4588, -0.2078, -0.6314,  ..., -0.9608, -0.8118,  0.9686],\n",
       "           [ 0.6784,  0.9451,  0.9059,  ...,  0.8667, -0.5294,  0.4039]],\n",
       " \n",
       "          [[ 0.0902, -0.3176, -0.1765,  ...,  0.4980, -0.8980, -0.6941],\n",
       "           [ 0.4510,  0.9137,  0.9843,  ..., -0.3020, -0.7725,  0.4588],\n",
       "           [-0.8431,  0.8196, -0.4196,  ..., -0.7255,  0.7804, -1.0000],\n",
       "           ...,\n",
       "           [-0.8588, -0.7647, -0.1373,  ..., -0.2157, -0.0039, -0.8039],\n",
       "           [ 0.7961, -0.8902, -0.3412,  ..., -0.6157,  0.4353, -0.3569],\n",
       "           [-0.5765,  0.0745, -0.2784,  ..., -0.4353, -0.9059, -0.9373]],\n",
       " \n",
       "          [[-0.0902,  0.3647, -0.2706,  ...,  0.1137, -0.4196,  0.2863],\n",
       "           [-0.2078,  0.8745, -0.3647,  ..., -0.4196,  0.2000, -0.2549],\n",
       "           [-0.6627, -0.1608, -0.5843,  ..., -0.9451, -0.7882, -1.0000],\n",
       "           ...,\n",
       "           [-0.9608, -0.5922,  0.5608,  ...,  0.9765, -0.2078, -0.4196],\n",
       "           [ 0.6235, -0.7647,  0.9529,  ...,  0.9686,  0.9686, -0.9373],\n",
       "           [-0.9922,  0.8275, -0.2000,  ...,  0.0745,  0.3176, -0.1451]],\n",
       " \n",
       "          [[-0.2784,  0.7569,  0.3333,  ..., -0.3098,  0.3020, -0.0510],\n",
       "           [-0.7176,  0.7176,  0.2941,  ..., -0.5843,  0.6314,  0.9686],\n",
       "           [-0.7961, -0.3804, -0.9922,  ...,  0.1373,  0.9765, -0.8275],\n",
       "           ...,\n",
       "           [-0.3098,  0.0824, -0.7569,  ...,  0.8275, -0.6706,  0.8431],\n",
       "           [-0.9451, -0.6235,  0.8588,  ...,  0.2235,  0.4588,  0.3569],\n",
       "           [ 0.6471,  0.7725, -0.5922,  ..., -0.2000,  0.2627, -0.2706]]]]),\n",
       " 'camera_embed_image': tensor([[[ 0.2768,  0.1157, -0.3898, -0.1193, -0.1277, -1.4740, -0.2545,\n",
       "           -0.2851, -0.2079, -0.8804],\n",
       "          [ 0.0680,  0.5040, -0.9379,  0.8415,  0.7333, -1.0441, -0.8113,\n",
       "            0.5263, -0.1982, -0.8346]],\n",
       " \n",
       "         [[-1.2472, -0.3743, -0.3828, -0.8795,  0.7494, -0.6318,  0.6248,\n",
       "            0.9507,  0.4620,  1.3929],\n",
       "          [-1.9666,  0.4949, -0.1546, -0.8008,  0.6408,  1.2541,  0.5391,\n",
       "           -0.8884,  1.7236, -0.1349]]]),\n",
       " 'camera_embed_normal': tensor([[[-0.1865, -1.1605, -1.8361,  1.9507,  1.5864, -1.1832,  0.6085,\n",
       "           -0.4621, -0.4500,  1.3848],\n",
       "          [-0.7942,  0.6538,  0.5622, -0.9894, -1.1864,  2.3417, -0.0113,\n",
       "           -1.8787, -0.1009,  0.6386]],\n",
       " \n",
       "         [[ 0.4114,  1.3025, -0.9965, -2.6262, -0.3546, -1.8036, -1.5018,\n",
       "           -1.2509, -1.3578, -0.7528],\n",
       "          [-1.2792, -0.9459,  0.7700, -0.9186, -0.1055, -0.2982, -0.3135,\n",
       "           -0.4414,  1.1950, -0.6915]]])}"
      ]
     },
     "execution_count": 5,
     "metadata": {},
     "output_type": "execute_result"
    }
   ],
   "source": [
    "itdl = iter(dataloader)\n",
    "next(itdl)"
   ]
  }
 ],
 "metadata": {
  "kernelspec": {
   "display_name": "Python 3",
   "language": "python",
   "name": "python3"
  },
  "language_info": {
   "codemirror_mode": {
    "name": "ipython",
    "version": 3
   },
   "file_extension": ".py",
   "mimetype": "text/x-python",
   "name": "python",
   "nbconvert_exporter": "python",
   "pygments_lexer": "ipython3",
   "version": "3.9.18"
  }
 },
 "nbformat": 4,
 "nbformat_minor": 0
}
