{
 "cells": [
  {
   "cell_type": "code",
   "execution_count": 1,
   "metadata": {
    "collapsed": true
   },
   "outputs": [],
   "source": [
    "import torch.distributions"
   ]
  },
  {
   "cell_type": "code",
   "execution_count": 3,
   "outputs": [
    {
     "data": {
      "text/plain": "torch.Size([100, 3])"
     },
     "execution_count": 3,
     "metadata": {},
     "output_type": "execute_result"
    }
   ],
   "source": [
    "d = torch.distributions.one_hot_categorical.OneHotCategorical(probs=torch.tensor([.3,.3,.4]))\n",
    "d.sample(sample_shape=(100,)).shape"
   ],
   "metadata": {
    "collapsed": false
   }
  },
  {
   "cell_type": "code",
   "execution_count": 1,
   "outputs": [
    {
     "name": "stderr",
     "output_type": "stream",
     "text": [
      "D:\\Apps\\Miniconda\\envs\\MLpy39\\lib\\site-packages\\tqdm\\auto.py:21: TqdmWarning: IProgress not found. Please update jupyter and ipywidgets. See https://ipywidgets.readthedocs.io/en/stable/user_install.html\n",
      "  from .autonotebook import tqdm as notebook_tqdm\n",
      "D:\\Apps\\Miniconda\\envs\\MLpy39\\lib\\site-packages\\transformers\\utils\\generic.py:441: UserWarning: torch.utils._pytree._register_pytree_node is deprecated. Please use torch.utils._pytree.register_pytree_node instead.\n",
      "  _torch_pytree._register_pytree_node(\n",
      "D:\\Apps\\Miniconda\\envs\\MLpy39\\lib\\site-packages\\transformers\\utils\\generic.py:309: UserWarning: torch.utils._pytree._register_pytree_node is deprecated. Please use torch.utils._pytree.register_pytree_node instead.\n",
      "  _torch_pytree._register_pytree_node(\n",
      "D:\\Apps\\Miniconda\\envs\\MLpy39\\lib\\site-packages\\diffusers\\utils\\outputs.py:63: UserWarning: torch.utils._pytree._register_pytree_node is deprecated. Please use torch.utils._pytree.register_pytree_node instead.\n",
      "  torch.utils._pytree._register_pytree_node(\n",
      "A matching Triton is not available, some optimizations will not be enabled\n",
      "Traceback (most recent call last):\n",
      "  File \"D:\\Apps\\Miniconda\\envs\\MLpy39\\lib\\site-packages\\xformers\\__init__.py\", line 55, in _is_triton_available\n",
      "    from xformers.triton.softmax import softmax as triton_softmax  # noqa\n",
      "  File \"D:\\Apps\\Miniconda\\envs\\MLpy39\\lib\\site-packages\\xformers\\triton\\softmax.py\", line 11, in <module>\n",
      "    import triton\n",
      "ModuleNotFoundError: No module named 'triton'\n",
      "D:\\Apps\\Miniconda\\envs\\MLpy39\\lib\\site-packages\\diffusers\\utils\\outputs.py:63: UserWarning: torch.utils._pytree._register_pytree_node is deprecated. Please use torch.utils._pytree.register_pytree_node instead.\n",
      "  torch.utils._pytree._register_pytree_node(\n",
      "D:\\Apps\\Miniconda\\envs\\MLpy39\\lib\\site-packages\\diffusers\\models\\unet_2d_blocks.py:249: FutureWarning: `AutoencoderTinyBlock` is deprecated and will be removed in version 0.29. Importing `AutoencoderTinyBlock` from `diffusers.models.unet_2d_blocks` is deprecated and this will be removed in a future version. Please use `from diffusers.models.unets.unet_2d_blocks import AutoencoderTinyBlock`, instead.\n",
      "  deprecate(\"AutoencoderTinyBlock\", \"0.29\", deprecation_message)\n",
      "D:\\Apps\\Miniconda\\envs\\MLpy39\\lib\\site-packages\\diffusers\\models\\unet_2d_blocks.py:254: FutureWarning: `UNetMidBlock2D` is deprecated and will be removed in version 0.29. Importing `UNetMidBlock2D` from `diffusers.models.unet_2d_blocks` is deprecated and this will be removed in a future version. Please use `from diffusers.models.unets.unet_2d_blocks import UNetMidBlock2D`, instead.\n",
      "  deprecate(\"UNetMidBlock2D\", \"0.29\", deprecation_message)\n",
      "D:\\Apps\\Miniconda\\envs\\MLpy39\\lib\\site-packages\\diffusers\\models\\unet_2d_blocks.py:259: FutureWarning: `UNetMidBlock2DCrossAttn` is deprecated and will be removed in version 0.29. Importing `UNetMidBlock2DCrossAttn` from `diffusers.models.unet_2d_blocks` is deprecated and this will be removed in a future version. Please use `from diffusers.models.unets.unet_2d_blocks import UNetMidBlock2DCrossAttn`, instead.\n",
      "  deprecate(\"UNetMidBlock2DCrossAttn\", \"0.29\", deprecation_message)\n",
      "D:\\Apps\\Miniconda\\envs\\MLpy39\\lib\\site-packages\\diffusers\\models\\unet_2d_blocks.py:264: FutureWarning: `UNetMidBlock2DSimpleCrossAttn` is deprecated and will be removed in version 0.29. Importing `UNetMidBlock2DSimpleCrossAttn` from `diffusers.models.unet_2d_blocks` is deprecated and this will be removed in a future version. Please use `from diffusers.models.unets.unet_2d_blocks import UNetMidBlock2DSimpleCrossAttn`, instead.\n",
      "  deprecate(\"UNetMidBlock2DSimpleCrossAttn\", \"0.29\", deprecation_message)\n",
      "D:\\Apps\\Miniconda\\envs\\MLpy39\\lib\\site-packages\\diffusers\\models\\unet_2d_blocks.py:269: FutureWarning: `AttnDownBlock2D` is deprecated and will be removed in version 0.29. Importing `AttnDownBlock2D` from `diffusers.models.unet_2d_blocks` is deprecated and this will be removed in a future version. Please use `from diffusers.models.unets.unet_2d_blocks import AttnDownBlock2D`, instead.\n",
      "  deprecate(\"AttnDownBlock2D\", \"0.29\", deprecation_message)\n",
      "D:\\Apps\\Miniconda\\envs\\MLpy39\\lib\\site-packages\\diffusers\\models\\unet_2d_blocks.py:274: FutureWarning: `CrossAttnDownBlock2D` is deprecated and will be removed in version 0.29. Importing `AttnDownBlock2D` from `diffusers.models.unet_2d_blocks` is deprecated and this will be removed in a future version. Please use `from diffusers.models.unets.unet_2d_blocks import CrossAttnDownBlock2D`, instead.\n",
      "  deprecate(\"CrossAttnDownBlock2D\", \"0.29\", deprecation_message)\n",
      "D:\\Apps\\Miniconda\\envs\\MLpy39\\lib\\site-packages\\diffusers\\models\\unet_2d_blocks.py:279: FutureWarning: `DownBlock2D` is deprecated and will be removed in version 0.29. Importing `DownBlock2D` from `diffusers.models.unet_2d_blocks` is deprecated and this will be removed in a future version. Please use `from diffusers.models.unets.unet_2d_blocks import DownBlock2D`, instead.\n",
      "  deprecate(\"DownBlock2D\", \"0.29\", deprecation_message)\n",
      "D:\\Apps\\Miniconda\\envs\\MLpy39\\lib\\site-packages\\diffusers\\models\\unet_2d_blocks.py:284: FutureWarning: `AttnDownEncoderBlock2D` is deprecated and will be removed in version 0.29. Importing `AttnDownEncoderBlock2D` from `diffusers.models.unet_2d_blocks` is deprecated and this will be removed in a future version. Please use `from diffusers.models.unets.unet_2d_blocks import AttnDownEncoderBlock2D`, instead.\n",
      "  deprecate(\"AttnDownEncoderBlock2D\", \"0.29\", deprecation_message)\n",
      "D:\\Apps\\Miniconda\\envs\\MLpy39\\lib\\site-packages\\diffusers\\models\\unet_2d_blocks.py:289: FutureWarning: `AttnSkipDownBlock2D` is deprecated and will be removed in version 0.29. Importing `AttnSkipDownBlock2D` from `diffusers.models.unet_2d_blocks` is deprecated and this will be removed in a future version. Please use `from diffusers.models.unets.unet_2d_blocks import AttnSkipDownBlock2D`, instead.\n",
      "  deprecate(\"AttnSkipDownBlock2D\", \"0.29\", deprecation_message)\n",
      "D:\\Apps\\Miniconda\\envs\\MLpy39\\lib\\site-packages\\diffusers\\models\\unet_2d_blocks.py:294: FutureWarning: `SkipDownBlock2D` is deprecated and will be removed in version 0.29. Importing `SkipDownBlock2D` from `diffusers.models.unet_2d_blocks` is deprecated and this will be removed in a future version. Please use `from diffusers.models.unets.unet_2d_blocks import SkipDownBlock2D`, instead.\n",
      "  deprecate(\"SkipDownBlock2D\", \"0.29\", deprecation_message)\n",
      "D:\\Apps\\Miniconda\\envs\\MLpy39\\lib\\site-packages\\diffusers\\models\\unet_2d_blocks.py:299: FutureWarning: `ResnetDownsampleBlock2D` is deprecated and will be removed in version 0.29. Importing `ResnetDownsampleBlock2D` from `diffusers.models.unet_2d_blocks` is deprecated and this will be removed in a future version. Please use `from diffusers.models.unets.unet_2d_blocks import ResnetDownsampleBlock2D`, instead.\n",
      "  deprecate(\"ResnetDownsampleBlock2D\", \"0.29\", deprecation_message)\n",
      "D:\\Apps\\Miniconda\\envs\\MLpy39\\lib\\site-packages\\diffusers\\models\\unet_2d_blocks.py:304: FutureWarning: `SimpleCrossAttnDownBlock2D` is deprecated and will be removed in version 0.29. Importing `SimpleCrossAttnDownBlock2D` from `diffusers.models.unet_2d_blocks` is deprecated and this will be removed in a future version. Please use `from diffusers.models.unets.unet_2d_blocks import SimpleCrossAttnDownBlock2D`, instead.\n",
      "  deprecate(\"SimpleCrossAttnDownBlock2D\", \"0.29\", deprecation_message)\n",
      "D:\\Apps\\Miniconda\\envs\\MLpy39\\lib\\site-packages\\diffusers\\models\\unet_2d_blocks.py:309: FutureWarning: `KDownBlock2D` is deprecated and will be removed in version 0.29. Importing `KDownBlock2D` from `diffusers.models.unet_2d_blocks` is deprecated and this will be removed in a future version. Please use `from diffusers.models.unets.unet_2d_blocks import KDownBlock2D`, instead.\n",
      "  deprecate(\"KDownBlock2D\", \"0.29\", deprecation_message)\n",
      "D:\\Apps\\Miniconda\\envs\\MLpy39\\lib\\site-packages\\diffusers\\models\\unet_2d_blocks.py:314: FutureWarning: `KCrossAttnDownBlock2D` is deprecated and will be removed in version 0.29. Importing `KCrossAttnDownBlock2D` from `diffusers.models.unet_2d_blocks` is deprecated and this will be removed in a future version. Please use `from diffusers.models.unets.unet_2d_blocks import KCrossAttnDownBlock2D`, instead.\n",
      "  deprecate(\"KCrossAttnDownBlock2D\", \"0.29\", deprecation_message)\n",
      "D:\\Apps\\Miniconda\\envs\\MLpy39\\lib\\site-packages\\diffusers\\models\\unet_2d_blocks.py:319: FutureWarning: `AttnUpBlock2D` is deprecated and will be removed in version 0.29. Importing `AttnUpBlock2D` from `diffusers.models.unet_2d_blocks` is deprecated and this will be removed in a future version. Please use `from diffusers.models.unets.unet_2d_blocks import AttnUpBlock2D`, instead.\n",
      "  deprecate(\"AttnUpBlock2D\", \"0.29\", deprecation_message)\n",
      "D:\\Apps\\Miniconda\\envs\\MLpy39\\lib\\site-packages\\diffusers\\models\\unet_2d_blocks.py:324: FutureWarning: `CrossAttnUpBlock2D` is deprecated and will be removed in version 0.29. Importing `CrossAttnUpBlock2D` from `diffusers.models.unet_2d_blocks` is deprecated and this will be removed in a future version. Please use `from diffusers.models.unets.unet_2d_blocks import CrossAttnUpBlock2D`, instead.\n",
      "  deprecate(\"CrossAttnUpBlock2D\", \"0.29\", deprecation_message)\n",
      "D:\\Apps\\Miniconda\\envs\\MLpy39\\lib\\site-packages\\diffusers\\models\\unet_2d_blocks.py:329: FutureWarning: `UpBlock2D` is deprecated and will be removed in version 0.29. Importing `UpBlock2D` from `diffusers.models.unet_2d_blocks` is deprecated and this will be removed in a future version. Please use `from diffusers.models.unets.unet_2d_blocks import UpBlock2D`, instead.\n",
      "  deprecate(\"UpBlock2D\", \"0.29\", deprecation_message)\n",
      "D:\\Apps\\Miniconda\\envs\\MLpy39\\lib\\site-packages\\diffusers\\models\\unet_2d_blocks.py:334: FutureWarning: `UpDecoderBlock2D` is deprecated and will be removed in version 0.29. Importing `UpDecoderBlock2D` from `diffusers.models.unet_2d_blocks` is deprecated and this will be removed in a future version. Please use `from diffusers.models.unets.unet_2d_blocks import UpDecoderBlock2D`, instead.\n",
      "  deprecate(\"UpDecoderBlock2D\", \"0.29\", deprecation_message)\n",
      "D:\\Apps\\Miniconda\\envs\\MLpy39\\lib\\site-packages\\diffusers\\models\\unet_2d_blocks.py:339: FutureWarning: `AttnUpDecoderBlock2D` is deprecated and will be removed in version 0.29. Importing `AttnUpDecoderBlock2D` from `diffusers.models.unet_2d_blocks` is deprecated and this will be removed in a future version. Please use `from diffusers.models.unets.unet_2d_blocks import AttnUpDecoderBlock2D`, instead.\n",
      "  deprecate(\"AttnUpDecoderBlock2D\", \"0.29\", deprecation_message)\n",
      "D:\\Apps\\Miniconda\\envs\\MLpy39\\lib\\site-packages\\diffusers\\models\\unet_2d_blocks.py:344: FutureWarning: `AttnSkipUpBlock2D` is deprecated and will be removed in version 0.29. Importing `AttnSkipUpBlock2D` from `diffusers.models.unet_2d_blocks` is deprecated and this will be removed in a future version. Please use `from diffusers.models.unets.unet_2d_blocks import AttnSkipUpBlock2D`, instead.\n",
      "  deprecate(\"AttnSkipUpBlock2D\", \"0.29\", deprecation_message)\n",
      "D:\\Apps\\Miniconda\\envs\\MLpy39\\lib\\site-packages\\diffusers\\models\\unet_2d_blocks.py:349: FutureWarning: `SkipUpBlock2D` is deprecated and will be removed in version 0.29. Importing `SkipUpBlock2D` from `diffusers.models.unet_2d_blocks` is deprecated and this will be removed in a future version. Please use `from diffusers.models.unets.unet_2d_blocks import SkipUpBlock2D`, instead.\n",
      "  deprecate(\"SkipUpBlock2D\", \"0.29\", deprecation_message)\n",
      "D:\\Apps\\Miniconda\\envs\\MLpy39\\lib\\site-packages\\diffusers\\models\\unet_2d_blocks.py:354: FutureWarning: `ResnetUpsampleBlock2D` is deprecated and will be removed in version 0.29. Importing `ResnetUpsampleBlock2D` from `diffusers.models.unet_2d_blocks` is deprecated and this will be removed in a future version. Please use `from diffusers.models.unets.unet_2d_blocks import ResnetUpsampleBlock2D`, instead.\n",
      "  deprecate(\"ResnetUpsampleBlock2D\", \"0.29\", deprecation_message)\n",
      "D:\\Apps\\Miniconda\\envs\\MLpy39\\lib\\site-packages\\diffusers\\models\\unet_2d_blocks.py:359: FutureWarning: `SimpleCrossAttnUpBlock2D` is deprecated and will be removed in version 0.29. Importing `SimpleCrossAttnUpBlock2D` from `diffusers.models.unet_2d_blocks` is deprecated and this will be removed in a future version. Please use `from diffusers.models.unets.unet_2d_blocks import SimpleCrossAttnUpBlock2D`, instead.\n",
      "  deprecate(\"SimpleCrossAttnUpBlock2D\", \"0.29\", deprecation_message)\n",
      "D:\\Apps\\Miniconda\\envs\\MLpy39\\lib\\site-packages\\diffusers\\models\\unet_2d_blocks.py:364: FutureWarning: `KUpBlock2D` is deprecated and will be removed in version 0.29. Importing `KUpBlock2D` from `diffusers.models.unet_2d_blocks` is deprecated and this will be removed in a future version. Please use `from diffusers.models.unets.unet_2d_blocks import KUpBlock2D`, instead.\n",
      "  deprecate(\"KUpBlock2D\", \"0.29\", deprecation_message)\n",
      "D:\\Apps\\Miniconda\\envs\\MLpy39\\lib\\site-packages\\diffusers\\models\\unet_2d_blocks.py:369: FutureWarning: `KCrossAttnUpBlock2D` is deprecated and will be removed in version 0.29. Importing `KCrossAttnUpBlock2D` from `diffusers.models.unet_2d_blocks` is deprecated and this will be removed in a future version. Please use `from diffusers.models.unets.unet_2d_blocks import KCrossAttnUpBlock2D`, instead.\n",
      "  deprecate(\"KCrossAttnUpBlock2D\", \"0.29\", deprecation_message)\n",
      "D:\\Apps\\Miniconda\\envs\\MLpy39\\lib\\site-packages\\diffusers\\models\\unet_2d_blocks.py:375: FutureWarning: `KAttentionBlock` is deprecated and will be removed in version 0.29. Importing `KAttentionBlock` from `diffusers.models.unet_2d_blocks` is deprecated and this will be removed in a future version. Please use `from diffusers.models.unets.unet_2d_blocks import KAttentionBlock`, instead.\n",
      "  deprecate(\"KAttentionBlock\", \"0.29\", deprecation_message)\n",
      "D:\\Apps\\Miniconda\\envs\\MLpy39\\lib\\site-packages\\diffusers\\models\\dual_transformer_2d.py:20: FutureWarning: `DualTransformer2DModel` is deprecated and will be removed in version 0.29. Importing `DualTransformer2DModel` from `diffusers.models.dual_transformer_2d` is deprecated and this will be removed in a future version. Please use `from diffusers.models.transformers.dual_transformer_2d import DualTransformer2DModel`, instead.\n",
      "  deprecate(\"DualTransformer2DModel\", \"0.29\", deprecation_message)\n"
     ]
    }
   ],
   "source": [
    "import torch\n",
    "from diffusers import DiffusionPipeline, UNet2DConditionModel\n",
    "from mvdiffusion.models.unet_mv2d_condition import UNetMV2DConditionModel"
   ],
   "metadata": {
    "collapsed": false,
    "ExecuteTime": {
     "end_time": "2024-02-05T13:59:51.909450Z",
     "start_time": "2024-02-05T13:59:47.724467300Z"
    }
   }
  },
  {
   "cell_type": "code",
   "execution_count": 2,
   "outputs": [
    {
     "name": "stderr",
     "output_type": "stream",
     "text": [
      "model_index.json: 100%|██████████| 524/524 [00:00<00:00, 174kB/s]\n",
      "D:\\Apps\\Miniconda\\envs\\MLpy39\\lib\\site-packages\\huggingface_hub\\file_download.py:149: UserWarning: `huggingface_hub` cache-system uses symlinks by default to efficiently store duplicated files but your machine does not support them in D:\\work\\GNN3D\\weights\\models--flamehaze1115--wonder3d-v1.0. Caching files will still work but in a degraded version that might require more space on your disk. This warning can be disabled by setting the `HF_HUB_DISABLE_SYMLINKS_WARNING` environment variable. For more details, see https://huggingface.co/docs/huggingface_hub/how-to-cache#limitations.\n",
      "To support symlinks on Windows, you either need to activate Developer Mode or to run Python as an administrator. In order to see activate developer mode, see this article: https://docs.microsoft.com/en-us/windows/apps/get-started/enable-your-device-for-development\n",
      "  warnings.warn(message)\n"
     ]
    },
    {
     "ename": "ValueError",
     "evalue": "unet/mvdiffusion.models.unet_mv2d_condition.py as defined in `model_index.json` does not exist in flamehaze1115/wonder3d-v1.0 and is not a module in 'diffusers/pipelines'.",
     "output_type": "error",
     "traceback": [
      "\u001B[1;31m---------------------------------------------------------------------------\u001B[0m",
      "\u001B[1;31mValueError\u001B[0m                                Traceback (most recent call last)",
      "Cell \u001B[1;32mIn[2], line 1\u001B[0m\n\u001B[1;32m----> 1\u001B[0m pipeline \u001B[38;5;241m=\u001B[39m \u001B[43mDiffusionPipeline\u001B[49m\u001B[38;5;241;43m.\u001B[39;49m\u001B[43mfrom_pretrained\u001B[49m\u001B[43m(\u001B[49m\n\u001B[0;32m      2\u001B[0m \u001B[38;5;124;43m'\u001B[39;49m\u001B[38;5;124;43mflamehaze1115/wonder3d-v1.0\u001B[39;49m\u001B[38;5;124;43m'\u001B[39;49m\u001B[43m,\u001B[49m\u001B[43m \u001B[49m\u001B[38;5;66;43;03m# or use local checkpoint './ckpts'\u001B[39;49;00m\n\u001B[0;32m      3\u001B[0m \u001B[43mcustom_pipeline\u001B[49m\u001B[38;5;241;43m=\u001B[39;49m\u001B[38;5;124;43m'\u001B[39;49m\u001B[38;5;124;43mflamehaze1115/wonder3d-pipeline\u001B[39;49m\u001B[38;5;124;43m'\u001B[39;49m\u001B[43m,\u001B[49m\n\u001B[0;32m      4\u001B[0m \u001B[43mtorch_dtype\u001B[49m\u001B[38;5;241;43m=\u001B[39;49m\u001B[43mtorch\u001B[49m\u001B[38;5;241;43m.\u001B[39;49m\u001B[43mfloat16\u001B[49m\u001B[43m,\u001B[49m\n\u001B[0;32m      5\u001B[0m \u001B[43mcache_dir\u001B[49m\u001B[38;5;241;43m=\u001B[39;49m\u001B[43m \u001B[49m\u001B[38;5;124;43m'\u001B[39;49m\u001B[38;5;124;43mweights/\u001B[39;49m\u001B[38;5;124;43m'\u001B[39;49m\n\u001B[0;32m      6\u001B[0m \u001B[43m)\u001B[49m\n",
      "File \u001B[1;32mD:\\Apps\\Miniconda\\envs\\MLpy39\\lib\\site-packages\\huggingface_hub\\utils\\_validators.py:118\u001B[0m, in \u001B[0;36mvalidate_hf_hub_args.<locals>._inner_fn\u001B[1;34m(*args, **kwargs)\u001B[0m\n\u001B[0;32m    115\u001B[0m \u001B[38;5;28;01mif\u001B[39;00m check_use_auth_token:\n\u001B[0;32m    116\u001B[0m     kwargs \u001B[38;5;241m=\u001B[39m smoothly_deprecate_use_auth_token(fn_name\u001B[38;5;241m=\u001B[39mfn\u001B[38;5;241m.\u001B[39m\u001B[38;5;18m__name__\u001B[39m, has_token\u001B[38;5;241m=\u001B[39mhas_token, kwargs\u001B[38;5;241m=\u001B[39mkwargs)\n\u001B[1;32m--> 118\u001B[0m \u001B[38;5;28;01mreturn\u001B[39;00m fn(\u001B[38;5;241m*\u001B[39margs, \u001B[38;5;241m*\u001B[39m\u001B[38;5;241m*\u001B[39mkwargs)\n",
      "File \u001B[1;32mD:\\Apps\\Miniconda\\envs\\MLpy39\\lib\\site-packages\\diffusers\\pipelines\\pipeline_utils.py:1096\u001B[0m, in \u001B[0;36mDiffusionPipeline.from_pretrained\u001B[1;34m(cls, pretrained_model_name_or_path, **kwargs)\u001B[0m\n\u001B[0;32m   1091\u001B[0m     \u001B[38;5;28;01mif\u001B[39;00m pretrained_model_name_or_path\u001B[38;5;241m.\u001B[39mcount(\u001B[38;5;124m\"\u001B[39m\u001B[38;5;124m/\u001B[39m\u001B[38;5;124m\"\u001B[39m) \u001B[38;5;241m>\u001B[39m \u001B[38;5;241m1\u001B[39m:\n\u001B[0;32m   1092\u001B[0m         \u001B[38;5;28;01mraise\u001B[39;00m \u001B[38;5;167;01mValueError\u001B[39;00m(\n\u001B[0;32m   1093\u001B[0m             \u001B[38;5;124mf\u001B[39m\u001B[38;5;124m'\u001B[39m\u001B[38;5;124mThe provided pretrained_model_name_or_path \u001B[39m\u001B[38;5;124m\"\u001B[39m\u001B[38;5;132;01m{\u001B[39;00mpretrained_model_name_or_path\u001B[38;5;132;01m}\u001B[39;00m\u001B[38;5;124m\"\u001B[39m\u001B[38;5;124m'\u001B[39m\n\u001B[0;32m   1094\u001B[0m             \u001B[38;5;124m\"\u001B[39m\u001B[38;5;124m is neither a valid local path nor a valid repo id. Please check the parameter.\u001B[39m\u001B[38;5;124m\"\u001B[39m\n\u001B[0;32m   1095\u001B[0m         )\n\u001B[1;32m-> 1096\u001B[0m     cached_folder \u001B[38;5;241m=\u001B[39m \u001B[38;5;28mcls\u001B[39m\u001B[38;5;241m.\u001B[39mdownload(\n\u001B[0;32m   1097\u001B[0m         pretrained_model_name_or_path,\n\u001B[0;32m   1098\u001B[0m         cache_dir\u001B[38;5;241m=\u001B[39mcache_dir,\n\u001B[0;32m   1099\u001B[0m         resume_download\u001B[38;5;241m=\u001B[39mresume_download,\n\u001B[0;32m   1100\u001B[0m         force_download\u001B[38;5;241m=\u001B[39mforce_download,\n\u001B[0;32m   1101\u001B[0m         proxies\u001B[38;5;241m=\u001B[39mproxies,\n\u001B[0;32m   1102\u001B[0m         local_files_only\u001B[38;5;241m=\u001B[39mlocal_files_only,\n\u001B[0;32m   1103\u001B[0m         token\u001B[38;5;241m=\u001B[39mtoken,\n\u001B[0;32m   1104\u001B[0m         revision\u001B[38;5;241m=\u001B[39mrevision,\n\u001B[0;32m   1105\u001B[0m         from_flax\u001B[38;5;241m=\u001B[39mfrom_flax,\n\u001B[0;32m   1106\u001B[0m         use_safetensors\u001B[38;5;241m=\u001B[39muse_safetensors,\n\u001B[0;32m   1107\u001B[0m         use_onnx\u001B[38;5;241m=\u001B[39muse_onnx,\n\u001B[0;32m   1108\u001B[0m         custom_pipeline\u001B[38;5;241m=\u001B[39mcustom_pipeline,\n\u001B[0;32m   1109\u001B[0m         custom_revision\u001B[38;5;241m=\u001B[39mcustom_revision,\n\u001B[0;32m   1110\u001B[0m         variant\u001B[38;5;241m=\u001B[39mvariant,\n\u001B[0;32m   1111\u001B[0m         load_connected_pipeline\u001B[38;5;241m=\u001B[39mload_connected_pipeline,\n\u001B[0;32m   1112\u001B[0m         \u001B[38;5;241m*\u001B[39m\u001B[38;5;241m*\u001B[39mkwargs,\n\u001B[0;32m   1113\u001B[0m     )\n\u001B[0;32m   1114\u001B[0m \u001B[38;5;28;01melse\u001B[39;00m:\n\u001B[0;32m   1115\u001B[0m     cached_folder \u001B[38;5;241m=\u001B[39m pretrained_model_name_or_path\n",
      "File \u001B[1;32mD:\\Apps\\Miniconda\\envs\\MLpy39\\lib\\site-packages\\huggingface_hub\\utils\\_validators.py:118\u001B[0m, in \u001B[0;36mvalidate_hf_hub_args.<locals>._inner_fn\u001B[1;34m(*args, **kwargs)\u001B[0m\n\u001B[0;32m    115\u001B[0m \u001B[38;5;28;01mif\u001B[39;00m check_use_auth_token:\n\u001B[0;32m    116\u001B[0m     kwargs \u001B[38;5;241m=\u001B[39m smoothly_deprecate_use_auth_token(fn_name\u001B[38;5;241m=\u001B[39mfn\u001B[38;5;241m.\u001B[39m\u001B[38;5;18m__name__\u001B[39m, has_token\u001B[38;5;241m=\u001B[39mhas_token, kwargs\u001B[38;5;241m=\u001B[39mkwargs)\n\u001B[1;32m--> 118\u001B[0m \u001B[38;5;28;01mreturn\u001B[39;00m fn(\u001B[38;5;241m*\u001B[39margs, \u001B[38;5;241m*\u001B[39m\u001B[38;5;241m*\u001B[39mkwargs)\n",
      "File \u001B[1;32mD:\\Apps\\Miniconda\\envs\\MLpy39\\lib\\site-packages\\diffusers\\pipelines\\pipeline_utils.py:1700\u001B[0m, in \u001B[0;36mDiffusionPipeline.download\u001B[1;34m(cls, pretrained_model_name, **kwargs)\u001B[0m\n\u001B[0;32m   1698\u001B[0m         custom_components[component] \u001B[38;5;241m=\u001B[39m module_candidate\n\u001B[0;32m   1699\u001B[0m     \u001B[38;5;28;01melif\u001B[39;00m module_candidate \u001B[38;5;129;01mnot\u001B[39;00m \u001B[38;5;129;01min\u001B[39;00m LOADABLE_CLASSES \u001B[38;5;129;01mand\u001B[39;00m \u001B[38;5;129;01mnot\u001B[39;00m \u001B[38;5;28mhasattr\u001B[39m(pipelines, module_candidate):\n\u001B[1;32m-> 1700\u001B[0m         \u001B[38;5;28;01mraise\u001B[39;00m \u001B[38;5;167;01mValueError\u001B[39;00m(\n\u001B[0;32m   1701\u001B[0m             \u001B[38;5;124mf\u001B[39m\u001B[38;5;124m\"\u001B[39m\u001B[38;5;132;01m{\u001B[39;00mcandidate_file\u001B[38;5;132;01m}\u001B[39;00m\u001B[38;5;124m as defined in `model_index.json` does not exist in \u001B[39m\u001B[38;5;132;01m{\u001B[39;00mpretrained_model_name\u001B[38;5;132;01m}\u001B[39;00m\u001B[38;5;124m and is not a module in \u001B[39m\u001B[38;5;124m'\u001B[39m\u001B[38;5;124mdiffusers/pipelines\u001B[39m\u001B[38;5;124m'\u001B[39m\u001B[38;5;124m.\u001B[39m\u001B[38;5;124m\"\u001B[39m\n\u001B[0;32m   1702\u001B[0m         )\n\u001B[0;32m   1704\u001B[0m \u001B[38;5;28;01mif\u001B[39;00m \u001B[38;5;28mlen\u001B[39m(variant_filenames) \u001B[38;5;241m==\u001B[39m \u001B[38;5;241m0\u001B[39m \u001B[38;5;129;01mand\u001B[39;00m variant \u001B[38;5;129;01mis\u001B[39;00m \u001B[38;5;129;01mnot\u001B[39;00m \u001B[38;5;28;01mNone\u001B[39;00m:\n\u001B[0;32m   1705\u001B[0m     deprecation_message \u001B[38;5;241m=\u001B[39m (\n\u001B[0;32m   1706\u001B[0m         \u001B[38;5;124mf\u001B[39m\u001B[38;5;124m\"\u001B[39m\u001B[38;5;124mYou are trying to load the model files of the `variant=\u001B[39m\u001B[38;5;132;01m{\u001B[39;00mvariant\u001B[38;5;132;01m}\u001B[39;00m\u001B[38;5;124m`, but no such modeling files are available.\u001B[39m\u001B[38;5;124m\"\u001B[39m\n\u001B[0;32m   1707\u001B[0m         \u001B[38;5;124mf\u001B[39m\u001B[38;5;124m\"\u001B[39m\u001B[38;5;124mThe default model files: \u001B[39m\u001B[38;5;132;01m{\u001B[39;00mmodel_filenames\u001B[38;5;132;01m}\u001B[39;00m\u001B[38;5;124m will be loaded instead. Make sure to not load from `variant=\u001B[39m\u001B[38;5;132;01m{\u001B[39;00mvariant\u001B[38;5;132;01m}\u001B[39;00m\u001B[38;5;124m`\u001B[39m\u001B[38;5;124m\"\u001B[39m\n\u001B[0;32m   1708\u001B[0m         \u001B[38;5;124m\"\u001B[39m\u001B[38;5;124mif such variant modeling files are not available. Doing so will lead to an error in v0.24.0 as defaulting to non-variant\u001B[39m\u001B[38;5;124m\"\u001B[39m\n\u001B[0;32m   1709\u001B[0m         \u001B[38;5;124m\"\u001B[39m\u001B[38;5;124mmodeling files is deprecated.\u001B[39m\u001B[38;5;124m\"\u001B[39m\n\u001B[0;32m   1710\u001B[0m     )\n",
      "\u001B[1;31mValueError\u001B[0m: unet/mvdiffusion.models.unet_mv2d_condition.py as defined in `model_index.json` does not exist in flamehaze1115/wonder3d-v1.0 and is not a module in 'diffusers/pipelines'."
     ]
    }
   ],
   "source": [
    "\n",
    "\n",
    "\n",
    "\n",
    "pipeline = DiffusionPipeline.from_pretrained(\n",
    "'flamehaze1115/wonder3d-v1.0', # or use local checkpoint './ckpts'\n",
    "custom_pipeline='flamehaze1115/wonder3d-pipeline',\n",
    "torch_dtype=torch.float16,\n",
    ")"
   ],
   "metadata": {
    "collapsed": false,
    "ExecuteTime": {
     "end_time": "2024-01-25T15:21:50.916532100Z",
     "start_time": "2024-01-25T15:21:49.614835900Z"
    }
   }
  },
  {
   "cell_type": "code",
   "execution_count": 4,
   "outputs": [
    {
     "name": "stderr",
     "output_type": "stream",
     "text": [
      "Some weights of UNetMV2DConditionModel were not initialized from the model checkpoint at D:/work/GNN3D/weights/models--lambdalabs--sd-image-variations-diffusers/snapshots/42bc0ee1726b141d49f519a6ea02ccfbf073db2e/unet and are newly initialized because the shapes did not match:\n",
      "- conv_in.weight: found shape torch.Size([320, 4, 3, 3]) in the checkpoint and torch.Size([320, 8, 3, 3]) in the model instantiated\n",
      "You should probably TRAIN this model on a down-stream task to be able to use it for predictions and inference.\n"
     ]
    }
   ],
   "source": [
    "# try load model id\n",
    "model_id = 'D:/work/GNN3D/weights/models--lambdalabs--sd-image-variations-diffusers/snapshots/42bc0ee1726b141d49f519a6ea02ccfbf073db2e/unet'\n",
    "revision = 'v2.0'\n",
    "\n",
    "unet = UNetMV2DConditionModel.from_pretrained(model_id,in_channels=8,low_cpu_mem_usage=False, ignore_mismatched_sizes=True)\n"
   ],
   "metadata": {
    "collapsed": false,
    "ExecuteTime": {
     "end_time": "2024-02-05T13:43:49.850112500Z",
     "start_time": "2024-02-05T13:43:42.270202900Z"
    }
   }
  },
  {
   "cell_type": "code",
   "execution_count": 2,
   "outputs": [
    {
     "name": "stderr",
     "output_type": "stream",
     "text": [
      "The config attributes {'cross_domain_attention': False, 'joint_attention': False, 'joint_attention_twice': True} were passed to UNetMV2DConditionModel, but are not expected and will be ignored. Please verify your config.json configuration file.\n"
     ]
    }
   ],
   "source": [
    "wonder_id = 'C:/Users/Xiang/.cache/huggingface/hub/models--flamehaze1115--wonder3d-v1.0/snapshots/d6d2efc033a06a74d3761268de7295c97e6935d2/unet'\n",
    "unet = UNetMV2DConditionModel.from_pretrained(wonder_id)"
   ],
   "metadata": {
    "collapsed": false,
    "ExecuteTime": {
     "end_time": "2024-02-05T13:59:55.858165300Z",
     "start_time": "2024-02-05T13:59:53.867042800Z"
    }
   }
  },
  {
   "cell_type": "code",
   "execution_count": 3,
   "outputs": [],
   "source": [
    "unet.enable_xformers_memory_efficient_attention()"
   ],
   "metadata": {
    "collapsed": false,
    "ExecuteTime": {
     "end_time": "2024-02-05T14:03:41.400959700Z",
     "start_time": "2024-02-05T14:03:36.994235800Z"
    }
   }
  },
  {
   "cell_type": "code",
   "execution_count": 5,
   "outputs": [
    {
     "data": {
      "text/plain": "FrozenDict([('sample_size', 32),\n            ('in_channels', 8),\n            ('out_channels', 4),\n            ('center_input_sample', False),\n            ('flip_sin_to_cos', True),\n            ('freq_shift', 0),\n            ('down_block_types',\n             ['CrossAttnDownBlockMV2D',\n              'CrossAttnDownBlockMV2D',\n              'CrossAttnDownBlockMV2D',\n              'DownBlock2D']),\n            ('mid_block_type', 'UNetMidBlockMV2DCrossAttn'),\n            ('up_block_types',\n             ['UpBlock2D',\n              'CrossAttnUpBlockMV2D',\n              'CrossAttnUpBlockMV2D',\n              'CrossAttnUpBlockMV2D']),\n            ('only_cross_attention', False),\n            ('block_out_channels', [320, 640, 1280, 1280]),\n            ('layers_per_block', 2),\n            ('downsample_padding', 1),\n            ('mid_block_scale_factor', 1),\n            ('act_fn', 'silu'),\n            ('norm_num_groups', 32),\n            ('norm_eps', 1e-05),\n            ('cross_attention_dim', 768),\n            ('transformer_layers_per_block', 1),\n            ('encoder_hid_dim', None),\n            ('encoder_hid_dim_type', None),\n            ('attention_head_dim', 8),\n            ('num_attention_heads', None),\n            ('dual_cross_attention', False),\n            ('use_linear_projection', False),\n            ('class_embed_type', 'projection'),\n            ('addition_embed_type', None),\n            ('addition_time_embed_dim', None),\n            ('num_class_embeds', None),\n            ('upcast_attention', False),\n            ('resnet_time_scale_shift', 'default'),\n            ('resnet_skip_time_act', False),\n            ('resnet_out_scale_factor', 1.0),\n            ('time_embedding_type', 'positional'),\n            ('time_embedding_dim', None),\n            ('time_embedding_act_fn', None),\n            ('timestep_post_act', None),\n            ('time_cond_proj_dim', None),\n            ('conv_in_kernel', 3),\n            ('conv_out_kernel', 3),\n            ('projection_class_embeddings_input_dim', 10),\n            ('class_embeddings_concat', False),\n            ('mid_block_only_cross_attention', None),\n            ('cross_attention_norm', None),\n            ('addition_embed_type_num_heads', 64),\n            ('num_views', 6),\n            ('cd_attention_last', False),\n            ('cd_attention_mid', True),\n            ('multiview_attention', True),\n            ('sparse_mv_attention', False),\n            ('mvcd_attention', False),\n            ('_class_name', 'UNetMV2DConditionModel'),\n            ('_diffusers_version', '0.19.3'),\n            ('_name_or_path',\n             'C:/Users/Xiang/.cache/huggingface/hub/models--flamehaze1115--wonder3d-v1.0/snapshots/d6d2efc033a06a74d3761268de7295c97e6935d2/unet'),\n            ('cross_domain_attention', False),\n            ('joint_attention', False),\n            ('joint_attention_twice', True)])"
     },
     "execution_count": 5,
     "metadata": {},
     "output_type": "execute_result"
    }
   ],
   "source": [
    "unet.config"
   ],
   "metadata": {
    "collapsed": false,
    "ExecuteTime": {
     "end_time": "2024-02-05T14:04:02.349500200Z",
     "start_time": "2024-02-05T14:04:02.340326300Z"
    }
   }
  },
  {
   "cell_type": "code",
   "execution_count": 7,
   "outputs": [],
   "source": [
    "# test input, output\n",
    "# predict the noise residual\n",
    "# latent_model_input (12,8,32,32)\n",
    "# image embeddings (12,1,768)\n",
    "# class_labels \n",
    "\n",
    "latent_model_input = torch.randn(size = (12,8,32,32)).to('cuda')\n",
    "image_embeddings = torch.randn(size = (12,1,768)).to('cuda')\n",
    "camera_embeddings = torch.randn(size = (12,10)).to('cuda')\n",
    "t = torch.tensor(950.).to('cuda')\n",
    "unet.to('cuda')\n",
    "noise_pred = unet(latent_model_input, t, encoder_hidden_states=image_embeddings, class_labels=camera_embeddings).sample\n"
   ],
   "metadata": {
    "collapsed": false,
    "ExecuteTime": {
     "end_time": "2024-02-05T14:09:10.890373700Z",
     "start_time": "2024-02-05T14:08:55.446847500Z"
    }
   }
  },
  {
   "cell_type": "code",
   "execution_count": 9,
   "outputs": [
    {
     "data": {
      "text/plain": "tensor([[[[ 1.6451, -0.7944,  2.0928,  ...,  1.3754,  0.6563,  1.7017],\n          [ 1.1369,  0.0205,  0.3306,  ...,  0.1336, -1.4247, -0.0861],\n          [-0.7323, -0.7516,  1.4478,  ..., -0.0486,  0.4949,  1.3067],\n          ...,\n          [ 0.1738,  0.0539, -0.7371,  ...,  0.7548,  1.1351, -0.1594],\n          [-1.1450,  1.0165, -0.0416,  ..., -0.2504,  0.7586,  2.4113],\n          [-1.1008,  0.5582,  0.2755,  ...,  0.7030,  2.4381,  0.5441]],\n\n         [[-0.1480, -1.2908,  0.6926,  ..., -1.0000, -0.6202,  0.3504],\n          [-3.0567, -0.6264,  1.1325,  ...,  0.6143,  0.2469,  0.2414],\n          [ 1.4290, -1.4810, -0.3120,  ...,  0.8861,  1.1703, -0.0359],\n          ...,\n          [-1.6988,  0.2924, -0.7695,  ...,  0.1713,  0.9562, -1.1710],\n          [ 0.3860,  0.4149,  0.9479,  ...,  0.6074,  0.1053, -0.9838],\n          [ 0.6721,  1.1418,  1.4959,  ...,  0.5179,  0.5675,  2.6051]],\n\n         [[-0.0511,  0.0584, -0.5652,  ...,  1.7786, -0.2101,  0.5164],\n          [-0.7629,  0.1641, -0.2185,  ...,  0.0835,  0.5635, -0.8411],\n          [-0.8743,  0.9732, -0.2125,  ...,  1.3254, -0.7805, -0.3956],\n          ...,\n          [-0.5005,  1.3029,  0.2113,  ...,  1.7219,  0.0164, -1.0121],\n          [-0.8427, -0.1343, -2.2022,  ..., -0.8174,  2.3839,  0.7985],\n          [-0.9543,  1.0504, -0.1829,  ...,  1.2013,  1.9522,  0.1663]],\n\n         [[ 0.3318, -0.3537,  2.2901,  ...,  0.1564,  0.6835, -0.8850],\n          [ 2.2678,  0.5398,  0.5498,  ..., -0.3231,  0.0485,  2.1954],\n          [-0.3250,  2.4689,  0.0862,  ..., -0.0420, -1.5010, -0.7205],\n          ...,\n          [-0.5434, -0.7350,  0.3234,  ..., -1.2147, -1.9451, -0.4770],\n          [ 0.9723, -0.6079,  1.2390,  ...,  2.3099,  0.2019,  1.0996],\n          [-0.9937,  0.3592, -0.7227,  ...,  0.2545,  1.1788, -0.8716]]],\n\n\n        [[[-0.0517,  0.5672, -0.7208,  ..., -1.4685, -0.2023, -2.0666],\n          [ 1.0791,  0.1591,  0.3401,  ...,  0.8539,  1.3936,  0.7260],\n          [ 0.2018, -0.4766, -0.7752,  ...,  0.0511, -1.5505,  0.7490],\n          ...,\n          [ 0.9712, -0.1884, -0.2943,  ...,  0.4025,  0.7361, -0.2702],\n          [-0.6178,  1.0534,  1.3083,  ..., -1.7715, -1.0573, -1.3358],\n          [ 1.2599, -0.5898,  1.2050,  ...,  0.3227,  0.2095,  1.1529]],\n\n         [[-0.7254, -0.3757, -0.4770,  ...,  0.2449,  0.2274, -0.7720],\n          [-0.4069, -1.1909, -0.3491,  ..., -1.5485, -1.3881, -3.0187],\n          [-0.3660, -0.1584, -0.7848,  ..., -0.6429,  0.4670,  0.4878],\n          ...,\n          [-1.8313,  0.9247,  1.0265,  ...,  0.4992,  1.0036,  0.7065],\n          [ 0.9092,  1.3106, -0.3110,  ...,  0.1199,  0.3944,  0.2740],\n          [-0.1681, -0.3674, -2.8470,  ...,  0.4610, -0.2275,  0.0744]],\n\n         [[-0.0356,  0.2487, -0.0797,  ...,  0.0633,  0.7087, -0.7362],\n          [-0.4635,  0.2378, -0.9812,  ...,  1.2092, -0.8358,  0.9635],\n          [ 0.2759, -1.1382,  0.2969,  ...,  1.0461, -2.0561, -1.6810],\n          ...,\n          [ 1.2381, -0.1791, -0.6047,  ..., -0.4772,  0.6471, -0.1182],\n          [ 0.3386, -1.7838, -0.3684,  ...,  1.0106, -0.8760,  0.4136],\n          [-0.4824,  0.2365,  0.1667,  ...,  0.1908,  1.5516, -1.2503]],\n\n         [[-0.2977,  0.4094, -0.2997,  ..., -0.4531, -1.3316, -0.9518],\n          [ 2.0546,  1.1127,  0.4397,  ..., -0.5699,  1.3497, -0.3703],\n          [ 0.7215, -0.4062,  1.1427,  ...,  1.1674, -1.2056,  0.0593],\n          ...,\n          [-0.6074,  0.5489, -0.5875,  ...,  0.8330,  1.0761,  0.2618],\n          [ 0.1627,  1.0496,  0.4177,  ...,  0.4471, -0.0388, -0.7155],\n          [ 0.1049, -1.8659, -1.7550,  ...,  0.7481,  1.5260,  1.3089]]],\n\n\n        [[[ 0.8478, -0.4102, -2.5193,  ...,  0.0984, -0.1651, -0.1609],\n          [ 1.2434,  1.7667, -1.3784,  ...,  0.7574, -0.4476,  2.1529],\n          [ 0.9316,  1.4749,  0.2697,  ..., -0.2438,  0.4851,  0.6126],\n          ...,\n          [-0.1239,  1.3412,  1.8695,  ...,  0.6055,  0.5806, -0.2421],\n          [ 0.7782, -0.0066,  1.2692,  ...,  0.1159, -0.0545, -0.0253],\n          [ 0.3360,  0.6741,  1.4351,  ..., -0.1568, -0.0623, -0.2637]],\n\n         [[ 0.7374, -0.2590,  0.7153,  ...,  1.3784, -1.8214, -0.3110],\n          [-0.8850, -1.1939,  0.4951,  ..., -0.6387,  1.3612, -1.2291],\n          [-0.4462, -1.2435, -2.8738,  ..., -1.7665, -1.2342, -0.1654],\n          ...,\n          [ 0.6389, -0.2604, -0.4195,  ...,  0.7141, -0.1555, -0.0883],\n          [-1.0700, -0.3776, -1.0578,  ...,  0.3215, -1.5012, -0.4519],\n          [-1.0929, -2.4554, -0.1259,  ..., -0.8042, -1.3159, -2.9876]],\n\n         [[ 0.8511,  0.5487, -0.5948,  ..., -1.9440, -0.3343,  1.4273],\n          [-0.0230, -0.1508, -1.6267,  ..., -0.9426, -1.1210,  0.5514],\n          [ 0.5407, -1.1848, -0.1900,  ...,  1.3452,  0.4851, -0.0534],\n          ...,\n          [-0.2708,  0.0818, -0.7103,  ...,  0.4202,  1.2406, -0.8460],\n          [-0.8983, -0.3702,  0.2334,  ..., -1.6940, -0.7119, -0.3595],\n          [-0.4401,  1.4460, -0.3785,  ..., -0.7779,  0.2660, -1.2937]],\n\n         [[-0.6473, -0.0815,  1.3615,  ...,  1.5447,  0.3559, -0.0366],\n          [-0.2035,  0.1517, -0.9972,  ..., -0.3776, -1.9467, -0.8661],\n          [-0.3667, -0.1371, -1.4519,  ..., -0.8749,  0.6391, -0.6687],\n          ...,\n          [ 1.2973,  1.3074,  1.5623,  ...,  1.6783,  0.3883,  0.3528],\n          [-0.0234,  0.2919, -0.1810,  ...,  0.2229, -1.0824, -1.8483],\n          [-0.8610,  1.0761,  1.3495,  ...,  1.2157, -0.4032,  0.1749]]],\n\n\n        ...,\n\n\n        [[[-0.9362, -1.3697, -1.5134,  ..., -1.4268,  1.2482, -1.5188],\n          [ 0.1357, -0.7029, -1.1534,  ..., -1.2851, -0.6229, -0.4342],\n          [ 0.3602, -1.0590,  1.7153,  ...,  1.3642,  1.2441,  0.8917],\n          ...,\n          [-0.6323,  0.7598,  1.8533,  ...,  0.2394,  1.4748, -0.3411],\n          [ 0.9477, -1.1941,  1.7332,  ..., -0.9044, -0.3967, -0.3133],\n          [-0.3990,  1.1745,  0.8581,  ...,  1.7435, -0.7554,  2.6278]],\n\n         [[ 1.7731,  0.3364, -0.8945,  ..., -0.6741, -0.1874,  0.1310],\n          [ 0.5376,  0.4274,  0.9676,  ..., -1.4034,  0.7991,  1.1565],\n          [ 1.6146,  0.7871, -1.7934,  ..., -0.0553,  0.5038, -2.0634],\n          ...,\n          [ 2.4868,  0.8877, -2.6309,  ...,  2.1472,  1.8809, -0.0177],\n          [ 1.2146,  0.3836,  0.9260,  ..., -0.4056, -1.1927, -0.0823],\n          [ 1.7826,  0.5581, -0.2190,  ..., -0.4558, -0.4873, -0.6368]],\n\n         [[ 1.4314, -1.3507, -0.8560,  ..., -1.6562,  2.5904,  0.9740],\n          [-0.7882, -0.9744,  0.0397,  ...,  0.9062, -0.1725, -0.5764],\n          [ 0.2075, -1.4186,  0.7810,  ..., -0.1071, -1.0949,  0.0962],\n          ...,\n          [ 0.8092, -1.3989, -2.1795,  ..., -0.4024,  0.1533,  0.2647],\n          [-0.5261, -0.7109, -1.3242,  ..., -0.9845,  0.0706, -1.2910],\n          [ 0.0494, -0.2590,  0.9319,  ..., -2.2306,  0.5862, -1.5686]],\n\n         [[ 0.9711, -1.2399,  0.0179,  ..., -1.0243,  0.5519, -1.9559],\n          [-1.7576, -0.8959,  1.3898,  ...,  0.4878, -0.8974,  1.0080],\n          [ 1.4072,  0.9016,  0.6839,  ...,  0.5764, -0.9803,  1.7787],\n          ...,\n          [ 0.2674,  1.3645,  0.0067,  ..., -0.5945, -1.4442,  0.8985],\n          [-0.2151,  0.9028, -0.9412,  ...,  0.2232, -0.0072,  1.3685],\n          [-1.1680,  1.2592, -0.4490,  ...,  1.4858, -0.4439,  1.3538]]],\n\n\n        [[[-2.5770,  0.8404, -1.4008,  ..., -0.3441,  0.5361, -0.0215],\n          [-0.9139,  0.5514,  0.7261,  ...,  0.2538,  1.1718,  0.8411],\n          [ 0.2171, -0.7293, -0.1927,  ..., -0.0214,  0.8158,  0.3758],\n          ...,\n          [ 0.1934,  1.0913,  0.5395,  ..., -1.0246, -1.3996, -0.5503],\n          [ 2.3549,  0.4324,  0.0077,  ...,  0.3126, -0.6194,  0.5152],\n          [-0.2035, -0.5156,  0.8686,  ...,  1.7209, -2.3807,  1.6075]],\n\n         [[-0.1444,  1.5912,  1.2255,  ..., -0.1439,  0.4334,  0.2346],\n          [-0.2632, -1.0926, -0.9748,  ..., -0.5001, -1.5029, -0.3481],\n          [ 0.1363, -2.1197,  1.7956,  ..., -0.1426, -0.4612,  0.3032],\n          ...,\n          [-0.7559,  0.6024,  0.1397,  ..., -1.7361, -3.1479,  0.3672],\n          [ 0.0670,  0.9187, -0.7429,  ...,  0.8131, -3.6100, -0.3612],\n          [ 1.6534,  0.3923, -1.6115,  ..., -0.7127, -1.6497,  1.8216]],\n\n         [[ 0.9891,  1.7815, -1.0696,  ..., -1.0459, -0.5550,  0.3953],\n          [ 1.0213, -0.3761, -1.8289,  ..., -0.6218,  0.2190, -1.3668],\n          [-0.2589, -1.7799, -1.0378,  ...,  0.5590,  1.5289,  0.6182],\n          ...,\n          [-0.1081, -0.1764,  0.5391,  ..., -0.0687, -0.6841,  1.3008],\n          [-0.2048,  0.3643, -1.8669,  ..., -0.2403,  1.4023, -0.1900],\n          [-0.0566, -0.7673, -1.2618,  ..., -1.0027,  1.9014,  1.0120]],\n\n         [[-1.7615, -0.8087, -2.1549,  ..., -1.1517, -1.1133, -1.1658],\n          [-0.0755, -0.5675,  0.4161,  ..., -1.0209, -0.4150, -1.6905],\n          [ 0.1778, -0.6896, -0.6605,  ...,  0.0796,  0.3188,  1.5377],\n          ...,\n          [-0.3127, -1.3065,  1.5647,  ..., -0.8763, -0.7050,  0.5178],\n          [ 1.3019, -0.3705, -0.4952,  ...,  0.2502,  1.0621, -0.2779],\n          [ 0.1744, -1.1839,  0.7073,  ...,  1.3707,  0.6741,  0.4305]]],\n\n\n        [[[-1.0703, -0.3654,  1.4367,  ..., -1.5816,  1.0106,  0.5037],\n          [ 0.0267,  0.2197,  1.5249,  ...,  0.5892, -0.5786, -1.4866],\n          [ 0.3494,  0.6328,  1.2842,  ..., -0.2589, -0.8002, -0.6409],\n          ...,\n          [-0.6468, -0.8477, -1.2282,  ...,  0.3305, -0.8200,  0.3509],\n          [-0.3041,  0.7479, -0.6743,  ...,  0.0567, -0.1415,  1.4182],\n          [ 1.3193, -0.6468, -0.8946,  ..., -0.5135, -1.7076,  0.2220]],\n\n         [[ 0.8353,  0.6537,  0.1757,  ...,  0.4371,  1.4454,  0.7686],\n          [-0.6580, -1.6033,  0.2858,  ..., -0.7471, -1.1222, -1.0529],\n          [-1.0452, -0.9772,  1.7483,  ...,  1.0217, -2.0694, -0.7274],\n          ...,\n          [-1.2381,  0.7212,  0.4865,  ...,  0.3680, -1.8041, -0.5644],\n          [ 0.5370,  0.4268, -0.9391,  ...,  0.2295,  0.2370, -0.5673],\n          [-0.0932,  0.5672, -0.1584,  ..., -1.3609, -0.4106, -0.2179]],\n\n         [[ 1.2887, -0.0656, -0.3813,  ...,  0.7311,  0.7219, -0.6454],\n          [ 0.1775,  1.6074, -1.1502,  ..., -1.3754,  0.6895, -0.0952],\n          [ 1.7413, -0.1390, -2.1279,  ..., -1.9618,  0.2722, -0.0130],\n          ...,\n          [-0.0366, -1.0612,  0.1466,  ...,  1.1718,  0.9906,  0.0742],\n          [-0.1476, -1.0470,  0.7711,  ..., -0.5586,  0.5829,  0.3282],\n          [-1.5129,  1.2070, -0.9778,  ...,  0.0117, -0.8235,  0.7369]],\n\n         [[ 1.3188,  0.0883, -1.7563,  ...,  0.0395, -1.1392,  2.0287],\n          [ 0.0673, -1.2857, -0.9885,  ..., -1.7316,  0.2239, -0.9148],\n          [ 0.1484, -0.5767, -0.2994,  ..., -0.2977,  1.4454,  1.3037],\n          ...,\n          [-0.3809, -0.1623, -0.0698,  ..., -0.0128,  1.5690,  0.4262],\n          [ 0.3518, -0.6974,  1.4723,  ...,  0.2609,  1.1210,  1.0977],\n          [ 0.7828, -0.2336,  1.1801,  ...,  0.1988, -0.4942,  0.5157]]]],\n       device='cuda:0', grad_fn=<ConvolutionBackward0>)"
     },
     "execution_count": 9,
     "metadata": {},
     "output_type": "execute_result"
    }
   ],
   "source": [
    "noise_pred"
   ],
   "metadata": {
    "collapsed": false,
    "ExecuteTime": {
     "end_time": "2024-02-05T14:09:29.818978100Z",
     "start_time": "2024-02-05T14:09:29.767443400Z"
    }
   }
  },
  {
   "cell_type": "code",
   "execution_count": 1,
   "outputs": [
    {
     "name": "stderr",
     "output_type": "stream",
     "text": [
      "D:\\Apps\\Miniconda\\envs\\MLpy39\\lib\\site-packages\\tqdm\\auto.py:21: TqdmWarning: IProgress not found. Please update jupyter and ipywidgets. See https://ipywidgets.readthedocs.io/en/stable/user_install.html\n",
      "  from .autonotebook import tqdm as notebook_tqdm\n",
      "D:\\Apps\\Miniconda\\envs\\MLpy39\\lib\\site-packages\\transformers\\utils\\generic.py:441: UserWarning: torch.utils._pytree._register_pytree_node is deprecated. Please use torch.utils._pytree.register_pytree_node instead.\n",
      "  _torch_pytree._register_pytree_node(\n"
     ]
    }
   ],
   "source": [
    "import torch\n",
    "import torchvision.transforms as transforms"
   ],
   "metadata": {
    "collapsed": false,
    "ExecuteTime": {
     "end_time": "2024-02-12T16:00:58.014121900Z",
     "start_time": "2024-02-12T16:00:55.635468500Z"
    }
   }
  },
  {
   "cell_type": "code",
   "execution_count": null,
   "outputs": [],
   "source": [
    "transforms.CenterCrop(144)()"
   ],
   "metadata": {
    "collapsed": false
   }
  },
  {
   "cell_type": "code",
   "execution_count": 1,
   "outputs": [],
   "source": [
    "class Dict2Class(object):\n",
    "    def __init__(self, my_dict):\n",
    "        for key in my_dict:\n",
    "            setattr(self, key, my_dict[key])"
   ],
   "metadata": {
    "collapsed": false,
    "ExecuteTime": {
     "end_time": "2024-02-14T14:56:04.141149300Z",
     "start_time": "2024-02-14T14:56:04.127464700Z"
    }
   }
  },
  {
   "cell_type": "code",
   "execution_count": 5,
   "outputs": [],
   "source": [
    "from data.mvds import MVDataset\n",
    "from transformers import  CLIPImageProcessor\n",
    "import yaml\n",
    "config_path = 'configs/train_config.yml'\n",
    "wonder_id='C:/Users/Xiang/.cache/huggingface/hub/models--flamehaze1115--wonder3d-v1.0/snapshots/d6d2efc033a06a74d3761268de7295c97e6935d2'\n",
    "feature_extractor = CLIPImageProcessor.from_pretrained(wonder_id,subfolder='feature_extractor')\n",
    "with open(config_path,'r') as file:\n",
    "    cfg = yaml.safe_load(file)\n",
    "# cfg = yaml.safe_load(args.config_path)\n",
    "cfg.update({'config_path': config_path})\n",
    "args = Dict2Class(cfg)\n",
    "dataset = MVDataset(args,feature_extractor)"
   ],
   "metadata": {
    "collapsed": false,
    "ExecuteTime": {
     "end_time": "2024-02-14T14:57:08.844317800Z",
     "start_time": "2024-02-14T14:57:08.726242400Z"
    }
   }
  },
  {
   "cell_type": "code",
   "execution_count": 12,
   "outputs": [
    {
     "data": {
      "text/plain": "['image_cond',\n 'image_target',\n 'image_cond_vae',\n 'image_cond_CLIP',\n 'image_target_vae',\n 'camera_embed']"
     },
     "execution_count": 12,
     "metadata": {},
     "output_type": "execute_result"
    }
   ],
   "source": [
    "list(dataset[0].keys())"
   ],
   "metadata": {
    "collapsed": false,
    "ExecuteTime": {
     "end_time": "2024-02-14T14:58:42.244988700Z",
     "start_time": "2024-02-14T14:58:42.227238400Z"
    }
   }
  },
  {
   "cell_type": "code",
   "execution_count": 17,
   "outputs": [
    {
     "data": {
      "text/plain": "torch.Size([3, 256, 256])"
     },
     "execution_count": 17,
     "metadata": {},
     "output_type": "execute_result"
    }
   ],
   "source": [
    "dataset[0]['image_cond_vae'].shape"
   ],
   "metadata": {
    "collapsed": false,
    "ExecuteTime": {
     "end_time": "2024-02-14T15:03:42.452563Z",
     "start_time": "2024-02-14T15:03:42.427742300Z"
    }
   }
  }
 ],
 "metadata": {
  "kernelspec": {
   "display_name": "Python 3",
   "language": "python",
   "name": "python3"
  },
  "language_info": {
   "codemirror_mode": {
    "name": "ipython",
    "version": 2
   },
   "file_extension": ".py",
   "mimetype": "text/x-python",
   "name": "python",
   "nbconvert_exporter": "python",
   "pygments_lexer": "ipython2",
   "version": "2.7.6"
  }
 },
 "nbformat": 4,
 "nbformat_minor": 0
}
